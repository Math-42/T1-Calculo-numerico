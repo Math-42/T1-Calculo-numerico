{
 "cells": [
  {
   "cell_type": "markdown",
   "metadata": {},
   "source": [
    "# T2 SME0104 - Cálculo Numérico\n",
    "## Recomendação de filmes com SVD\n",
    "\n",
    "Alunos: \n",
    "- Kauê Hunnicutt Bazilli - 11212226\n",
    "- Matheus Vieira Gonçalves - 11200397\n",
    "- Pedro Henrique dias Junqueira de Souza - 11294312"
   ]
  },
  {
   "cell_type": "markdown",
   "metadata": {},
   "source": [
    "# Explicação\n",
    "\n",
    "O projeto desenvolvido foi um sistema de recomendação de filmes colaborativo baseado em avaliações de filmes feitas por usuários. \n",
    "Para tal, foi utilizada a [versão 'small' mais recente do dataset MovieLens](https://grouplens.org/datasets/movielens/latest/), contendo aproximadamente 100836 avaliações de 9724 filmes, feitas por 610 usuários. As avaliações foram coletadas do site MovieLens. O dataset inclui outros dados que não foram utilizados.\n",
    "\n",
    "O objetivo do sistema desenvolvido é recomendar filmes a usuários similares com base nas avaliações gerais no sistema e nas avaliações feitas pelo usuário que recebe as recomendações."
   ]
  },
  {
   "cell_type": "code",
   "execution_count": 6,
   "metadata": {},
   "outputs": [],
   "source": [
    "import pandas as pd\n",
    "import numpy as np\n",
    "import scipy as sp"
   ]
  },
  {
   "cell_type": "code",
   "execution_count": 33,
   "metadata": {},
   "outputs": [
    {
     "name": "stdout",
     "output_type": "stream",
     "text": [
      "Contagem de usuários: 610\n",
      "Contagem de filmes: 9724\n",
      "Contagem de avaliações: 100836\n",
      "\n"
     ]
    }
   ],
   "source": [
    "# Inicialização e contagem dos dados\n",
    "data = pd.read_csv('./dataset/ratings.csv')\n",
    "\n",
    "user_count = len(data['userId'].unique() )\n",
    "movie_count = len(data['movieId'].unique())\n",
    "rating_count = len(data)\n",
    "\n",
    "print(f\"Contagem de usuários: {user_count}\")\n",
    "print(f\"Contagem de filmes: {movie_count}\")\n",
    "print(f\"Contagem de avaliações: {rating_count}\\n\")\n",
    "\n",
    "# Mapeando os títulos dos filmes usando os IDs dos filmes como chave\n",
    "movie_data = pd.read_csv('./dataset/movies.csv')\n",
    "\n",
    "movie_titles = {}\n",
    "\n",
    "for index, row in movie_data.iterrows():\n",
    "    movie_id = row['movieId']\n",
    "    movie_title = row['title']\n",
    "    movie_titles[movie_id] = movie_title"
   ]
  },
  {
   "cell_type": "code",
   "execution_count": 34,
   "metadata": {},
   "outputs": [
    {
     "name": "stdout",
     "output_type": "stream",
     "text": [
      "Usuário 1 deu nota 4.0 para o filme Toy Story (1995)\n"
     ]
    }
   ],
   "source": [
    "# Criação de uma matriz com usuários como linhas e filmes como colunas,\n",
    "# e as entradas em [i][j] como a nota que o usuário representado na linha i\n",
    "# deu a um filme na coluna j\n",
    "\n",
    "# Associação de uma linha a cada usuário\n",
    "# Ex: \"Usuário 15 está na linha 14\"\n",
    "users = data['userId'].unique().astype('int')\n",
    "user_rows = {}\n",
    "count = 0\n",
    "\n",
    "for user in users:\n",
    "    user_rows[user] = count\n",
    "    count += 1\n",
    "\n",
    "# Associação de uma coluna a cada filme\n",
    "# Ex: \"Filme 22 está na linha 21\"\n",
    "movies = data['movieId'].unique().astype('int')\n",
    "movie_columns = {}\n",
    "count = 0\n",
    "\n",
    "for movie in movies:\n",
    "    movie_columns[movie] = count\n",
    "    count += 1\n",
    "\n",
    "# Definição da matriz estudada e inserção dos valores\n",
    "ratings_mat = np.zeros(shape=(len(users),len(movies)))\n",
    "\n",
    "for index, row in data.iterrows():\n",
    "    user = row['userId'].astype('int')\n",
    "    movie = row['movieId'].astype('int')\n",
    "    rating = row['rating'].astype('float')\n",
    "\n",
    "    ratings_mat[user_rows[user]][movie_columns[movie]] = rating\n",
    "\n",
    "print(f\"Usuário 1 deu nota {ratings_mat[user_rows[1]][movie_columns[1]]} para o filme {movie_titles[1]}\")\n"
   ]
  }
 ],
 "metadata": {
  "kernelspec": {
   "display_name": "Python 3.9.4 64-bit",
   "language": "python",
   "name": "python3"
  },
  "language_info": {
   "codemirror_mode": {
    "name": "ipython",
    "version": 3
   },
   "file_extension": ".py",
   "mimetype": "text/x-python",
   "name": "python",
   "nbconvert_exporter": "python",
   "pygments_lexer": "ipython3",
   "version": "3.9.4"
  },
  "orig_nbformat": 4,
  "vscode": {
   "interpreter": {
    "hash": "81794d4967e6c3204c66dcd87b604927b115b27c00565d3d43f05ba2f3a2cb0d"
   }
  }
 },
 "nbformat": 4,
 "nbformat_minor": 2
}
