{
 "cells": [
  {
   "cell_type": "markdown",
   "metadata": {},
   "source": [
    "# T2 SME0104 - Cálculo Numérico\n",
    "## Recomendação de filmes com SVD\n",
    "\n",
    "Alunos: \n",
    "- Kauê Hunnicutt Bazilli - 11212226\n",
    "- Matheus Vieira Gonçalves - 11200397\n",
    "- Pedro Henrique dias Junqueira de Souza - 11294312"
   ]
  },
  {
   "cell_type": "markdown",
   "metadata": {},
   "source": [
    "# Explicação\n",
    "\n",
    "O projeto desenvolvido foi um sistema de recomendação de filmes colaborativo baseado em avaliações de filmes feitas por usuários. \n",
    "Para tal, foi utilizada a [versão 'small' mais recente do dataset MovieLens](https://grouplens.org/datasets/movielens/latest/), contendo aproximadamente 100836 avaliações de 9724 filmes, feitas por 610 usuários. As avaliações foram coletadas do site MovieLens. O dataset inclui outros dados que não foram utilizados.\n",
    "\n",
    "O objetivo do sistema desenvolvido é recomendar filmes a usuários similares com base nas avaliações gerais no sistema e nas avaliações feitas pelo usuário que recebe as recomendações."
   ]
  },
  {
   "cell_type": "code",
   "execution_count": 1,
   "metadata": {},
   "outputs": [],
   "source": [
    "import pandas as pd\n",
    "import numpy as np\n",
    "import scipy as sp"
   ]
  },
  {
   "cell_type": "code",
   "execution_count": 10,
   "metadata": {},
   "outputs": [
    {
     "name": "stdout",
     "output_type": "stream",
     "text": [
      "Contagem de usuários: 610\n",
      "Contagem de filmes: 9724\n",
      "Contagem de avaliações: 100836\n",
      "\n",
      "   userId  movieId  rating  timestamp\n",
      "0       1        1     4.0  964982703\n",
      "1       1        3     4.0  964981247\n",
      "2       1        6     4.0  964982224\n",
      "3       1       47     5.0  964983815\n",
      "4       1       50     5.0  964982931\n"
     ]
    }
   ],
   "source": [
    "# Inicialização e contagem dos dados\n",
    "data = pd.read_csv('./dataset/ratings.csv')\n",
    "\n",
    "user_count = len(data['userId'].unique() )\n",
    "movie_count = len(data['movieId'].unique())\n",
    "rating_count = len(data)\n",
    "\n",
    "print(f\"Contagem de usuários: {user_count}\")\n",
    "print(f\"Contagem de filmes: {movie_count}\")\n",
    "print(f\"Contagem de avaliações: {rating_count}\\n\")\n",
    "\n",
    "print(data.head())"
   ]
  },
  {
   "cell_type": "code",
   "execution_count": null,
   "metadata": {},
   "outputs": [],
   "source": [
    "users = data['userId'].unique()\n",
    "movies = data['movieId'].unique()"
   ]
  }
 ],
 "metadata": {
  "kernelspec": {
   "display_name": "Python 3.9.4 64-bit",
   "language": "python",
   "name": "python3"
  },
  "language_info": {
   "codemirror_mode": {
    "name": "ipython",
    "version": 3
   },
   "file_extension": ".py",
   "mimetype": "text/x-python",
   "name": "python",
   "nbconvert_exporter": "python",
   "pygments_lexer": "ipython3",
   "version": "3.9.4"
  },
  "orig_nbformat": 4,
  "vscode": {
   "interpreter": {
    "hash": "81794d4967e6c3204c66dcd87b604927b115b27c00565d3d43f05ba2f3a2cb0d"
   }
  }
 },
 "nbformat": 4,
 "nbformat_minor": 2
}
