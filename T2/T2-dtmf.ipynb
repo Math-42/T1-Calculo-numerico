{
 "cells": [
  {
   "cell_type": "markdown",
   "metadata": {},
   "source": [
    "# T2 SME0104 - Cálculo Numérico\n",
    "## Recomendação de filmes com SVD\n",
    "\n",
    "Alunos: \n",
    "- Kauê Hunnicutt Bazilli - 11212226\n",
    "- Matheus Vieira Gonçalves - 11200397\n",
    "- Pedro Henrique dias Junqueira de Souza - 11294312"
   ]
  },
  {
   "cell_type": "markdown",
   "metadata": {},
   "source": [
    "# Explicação\n",
    "\n",
    "O projeto desenvolvido foi um sistema de recomendação de filmes colaborativo baseado em avaliações de filmes feitas por usuários. \n",
    "Para tal, foi utilizada a [versão 'small' mais recente do dataset MovieLens](https://grouplens.org/datasets/movielens/latest/), contendo aproximadamente 100836 avaliações de 9724 filmes, feitas por 610 usuários. As avaliações foram coletadas do site MovieLens. O dataset inclui outros dados que não foram utilizados.\n",
    "\n",
    "O objetivo do sistema desenvolvido é recomendar filmes a usuários similares com base nas avaliações gerais no sistema e nas avaliações feitas pelo usuário que recebe as recomendações."
   ]
  },
  {
   "cell_type": "code",
   "execution_count": 124,
   "metadata": {},
   "outputs": [],
   "source": [
    "# Remover os comentários para instalar as bibliotecas necessárias\n",
    "# import sys\n",
    "# !{sys.executable} -m pip install sounddevice\n",
    "# !{sys.executable} -m pip install pandas\n",
    "# !{sys.executable} -m pip install scipy\n",
    "# !{sys.executable} -m pip install matplotlib\n",
    "\n",
    "import pandas as pd\n",
    "import numpy as np\n",
    "import scipy as sp\n",
    "import sounddevice as sd\n",
    "import matplotlib.pyplot as pp\n",
    "import math\n"
   ]
  },
  {
   "cell_type": "code",
   "execution_count": 214,
   "metadata": {},
   "outputs": [
    {
     "name": "stdout",
     "output_type": "stream",
     "text": [
      "[ 697  770  852  941 1209 1336 1477 1633]\n"
     ]
    }
   ],
   "source": [
    "\n",
    "SAMPLE_RATE = 44000\n",
    "REC_TIME = 4.0  # segundos\n",
    "FRAMES = int(REC_TIME * SAMPLE_RATE)\n",
    "CHANNELS = 1\n",
    "DELTA_T = 1.0 / SAMPLE_RATE\n",
    "\n",
    "DTMF_LOW_FREQUENCIES = np.array([697, 770, 852, 941])  # Hz\n",
    "DTMF_HIGH_FREQUENCIES = np.array([1209, 1336, 1477, 1633])  # Hz\n",
    "\n",
    "DTMF_FREQUENCIES = np.concatenate(\n",
    "    [DTMF_LOW_FREQUENCIES, DTMF_HIGH_FREQUENCIES])  # Hz\n",
    "print(DTMF_FREQUENCIES)\n",
    "\n",
    "\n",
    "DTMF_DICT = np.array(\n",
    "    [['1', '2', '3', 'A'],\n",
    "     ['4', '5', '6', 'B'],\n",
    "     ['7', '8', '9', 'C'],\n",
    "     ['*', '0', '#', 'D']])\n"
   ]
  },
  {
   "cell_type": "code",
   "execution_count": 229,
   "metadata": {},
   "outputs": [
    {
     "name": "stdout",
     "output_type": "stream",
     "text": [
      "<class 'numpy.ndarray'> (176000, 1)\n"
     ]
    }
   ],
   "source": [
    "sound_wave = sd.rec(frames=FRAMES,\n",
    "                    samplerate=SAMPLE_RATE,\n",
    "                    channels=CHANNELS)\n",
    "\n",
    "SOUND_WAVE_ROWS, SOUND_WAVE_COLS = sound_wave.shape\n",
    "sd.wait()\n",
    "print(type(sound_wave), sound_wave.shape)\n"
   ]
  },
  {
   "cell_type": "code",
   "execution_count": 230,
   "metadata": {},
   "outputs": [],
   "source": [
    "\n",
    "sd.play(sound_wave, samplerate= SAMPLE_RATE)\n",
    "sd.wait()"
   ]
  },
  {
   "cell_type": "code",
   "execution_count": 231,
   "metadata": {},
   "outputs": [
    {
     "data": {
      "image/png": "[encoded data removed]",
      "text/plain": [
       "<Figure size 432x288 with 1 Axes>"
      ]
     },
     "metadata": {
      "needs_background": "light"
     },
     "output_type": "display_data"
    }
   ],
   "source": [
    "pp.plot(sound_wave)\n",
    "pp.show()"
   ]
  },
  {
   "cell_type": "code",
   "execution_count": 232,
   "metadata": {},
   "outputs": [],
   "source": [
    "def mmq(time, j):\n",
    "    frequency = int(j/2)\n",
    "    val = DTMF_FREQUENCIES[frequency] * math.pi * 2 * time\n",
    "    return math.sin(val) if (j % 2 == 0) else math.cos(val)\n",
    "\n",
    "\n",
    "A = np.zeros(shape=(SOUND_WAVE_ROWS, 16))\n",
    "for i in range(0, sound_wave.shape[0]):\n",
    "    for j in range(0, 16):\n",
    "        A[i][j] = mmq(i * DELTA_T, j)\n",
    "\n"
   ]
  },
  {
   "cell_type": "code",
   "execution_count": 233,
   "metadata": {},
   "outputs": [
    {
     "name": "stdout",
     "output_type": "stream",
     "text": [
      "697Hz & 1336Hz : 2\n"
     ]
    }
   ],
   "source": [
    "A_T = A.T\n",
    "\n",
    "A_T_dot_A = np.dot(A_T, A)\n",
    "A_T_dot_b = np.dot(A_T, sound_wave)\n",
    "\n",
    "result = np.linalg.solve(A_T_dot_A, A_T_dot_b)\n",
    "\n",
    "\n",
    "def get_max_frequency_idxs(frequency_matrix):\n",
    "    range_array = np.zeros((8))\n",
    "    j = 0\n",
    "    for i in range(0, 16, 2):\n",
    "        curr_frequency = (\n",
    "            frequency_matrix[i]**2 + frequency_matrix[i+1]**2)**(1/2)\n",
    "        range_array[j] = curr_frequency\n",
    "        j += 1\n",
    "    return range_array[0:4].argmax(axis=0), range_array[4:8].argmax(axis=0)\n",
    "\n",
    "\n",
    "low_freq_idx, high_freq_idx = get_max_frequency_idxs(result)\n",
    "print(f\"{DTMF_LOW_FREQUENCIES[low_freq_idx]}Hz & {DTMF_HIGH_FREQUENCIES[high_freq_idx]}Hz : {DTMF_DICT[low_freq_idx][high_freq_idx]}\");\n",
    "\n"
   ]
  }
 ],
 "metadata": {
  "kernelspec": {
   "display_name": "Python 3.8.10 64-bit",
   "language": "python",
   "name": "python3"
  },
  "language_info": {
   "codemirror_mode": {
    "name": "ipython",
    "version": 3
   },
   "file_extension": ".py",
   "mimetype": "text/x-python",
   "name": "python",
   "nbconvert_exporter": "python",
   "pygments_lexer": "ipython3",
   "version": "3.8.10"
  },
  "orig_nbformat": 4,
  "vscode": {
   "interpreter": {
    "hash": "916dbcbb3f70747c44a77c7bcd40155683ae19c65e1c03b4aa3499c5328201f1"
   }
  }
 },
 "nbformat": 4,
 "nbformat_minor": 2
}
