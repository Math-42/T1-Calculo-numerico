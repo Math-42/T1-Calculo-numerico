{
 "cells": [
  {
   "cell_type": "markdown",
   "metadata": {},
   "source": [
    "# T2 SME0104 - Cálculo Numérico\n",
    "## Recomendação de filmes com SVD\n",
    "\n",
    "Alunos: \n",
    "- Kauê Hunnicutt Bazilli - 11212226\n",
    "- Matheus Vieira Gonçalves - 11200397\n",
    "- Pedro Henrique dias Junqueira de Souza - 11294312"
   ]
  },
  {
   "cell_type": "markdown",
   "metadata": {},
   "source": [
    "# Explicação\n",
    "O projeto desenvolvido foi um decodificador de sinais DTMF, os sinais DTMF são aqueles famosos tons que tocam ao digitarmos números telefônicos, cada número corresponde na verdade a dois tons um de baixa e um de alta frequência que eram decodificados ao chegar na central.\n",
    "\n",
    "O objetivo do trabalho é criar um decodificador capaz de interpretar o som recebido utilizando o métodos dos mínimos quadrados e converter no som carácter original pressionado."
   ]
  },
  {
   "cell_type": "code",
   "execution_count": 43,
   "metadata": {},
   "outputs": [],
   "source": [
    "# Remover os comentários para instalar as bibliotecas necessárias\n",
    "# import sys\n",
    "# !{sys.executable} -m pip install sounddevice\n",
    "# !{sys.executable} -m pip install pandas\n",
    "# !{sys.executable} -m pip install scipy\n",
    "# !{sys.executable} -m pip install matplotlib\n",
    "\n",
    "import pandas as pd\n",
    "import numpy as np\n",
    "import scipy as sp\n",
    "import sounddevice as sd\n",
    "import matplotlib.pyplot as pp\n",
    "import math\n"
   ]
  },
  {
   "cell_type": "markdown",
   "metadata": {},
   "source": [
    "Aqui definimos diversas constantes que serão utilizadas ao longo do código"
   ]
  },
  {
   "cell_type": "code",
   "execution_count": 67,
   "metadata": {},
   "outputs": [],
   "source": [
    "\n",
    "SAMPLE_RATE = 44000  # taxa de gravação\n",
    "REC_TIME = 2.0  # segundos\n",
    "FRAMES = int(REC_TIME * SAMPLE_RATE)  # quantidade de frames da gravação\n",
    "CHANNELS = 1  # quantidade de canais, 1 significa mono\n",
    "\n",
    "# menor quantidade de tempo significativo durante a gravação\n",
    "DELTA_T = 1.0 / SAMPLE_RATE\n",
    "\n",
    "# Frequências DTMF\n",
    "DTMF_LOW_FREQUENCIES = np.array([697, 770, 852, 941])  # Hz\n",
    "DTMF_HIGH_FREQUENCIES = np.array([1209, 1336, 1477, 1633])  # Hz\n",
    "\n",
    "DTMF_FREQUENCIES = np.concatenate(\n",
    "    [DTMF_LOW_FREQUENCIES, DTMF_HIGH_FREQUENCIES])  # Hz\n",
    "\n",
    "\"\"\"\n",
    "        1209Hz\t1336Hz\t1477Hz\t1633Hz\n",
    "697Hz\t    1\t    2\t    3\t    A\n",
    "770Hz\t    4\t    5\t    6\t    B\n",
    "852Hz\t    7\t    8\t    9\t    C\n",
    "941Hz\t    *\t    0\t    #\t    D\n",
    "\"\"\"\n",
    "\n",
    "DTMF_DICT = np.array(\n",
    "    [['1', '2', '3', 'A'],\n",
    "     ['4', '5', '6', 'B'],\n",
    "     ['7', '8', '9', 'C'],\n",
    "     ['*', '0', '#', 'D']])\n"
   ]
  },
  {
   "cell_type": "code",
   "execution_count": 90,
   "metadata": {},
   "outputs": [
    {
     "name": "stdout",
     "output_type": "stream",
     "text": [
      "<class 'numpy.ndarray'> (88000, 1)\n"
     ]
    }
   ],
   "source": [
    "# inicia a gravação do áudio\n",
    "sound_wave = sd.rec(frames=FRAMES,\n",
    "                    samplerate=SAMPLE_RATE,\n",
    "                    channels=CHANNELS)\n",
    "\n",
    "sd.wait()  # espera a gravação encerrar\n",
    "SOUND_WAVE_ROWS, SOUND_WAVE_COLS = sound_wave.shape\n",
    "print(type(sound_wave), sound_wave.shape)\n"
   ]
  },
  {
   "cell_type": "code",
   "execution_count": 91,
   "metadata": {},
   "outputs": [],
   "source": [
    "\n",
    "sd.play(sound_wave, samplerate=SAMPLE_RATE)  # toca o audio gravado\n",
    "sd.wait()  # espera o audio encerrar\n"
   ]
  },
  {
   "cell_type": "code",
   "execution_count": 92,
   "metadata": {},
   "outputs": [
    {
     "data": {
      "image/png": "[encoded data removed]",
      "text/plain": [
       "<Figure size 432x288 with 1 Axes>"
      ]
     },
     "metadata": {
      "needs_background": "light"
     },
     "output_type": "display_data"
    }
   ],
   "source": [
    "# visualização do audio gravado\n",
    "pp.plot(sound_wave)\n",
    "pp.show()\n"
   ]
  },
  {
   "cell_type": "markdown",
   "metadata": {},
   "source": [
    "O audio gravado pode ser descrito como:\n",
    "\n",
    "$$\n",
    "S(t) = \\sum_{n=1}^{8} A_n \\times \\sin{ (\\phi_n 2\\pi t + \\sigma_n)}\n",
    "$$\n",
    "\n",
    "Sendo $A$ a amplitude de cada frequência $n$, e $\\sigma_n$ a fase de cada um dos sinais. Utilizando o seno da soma, podemos desenvolver essa expressão para:\n",
    "\n",
    "\n",
    "$$\n",
    "S(t) = \\sum_{n=1}^{8} A_n [\\sin{(\\phi_n 2\\pi t)}\\cos{(\\sigma_n)} + \\sin{(\\sigma_n)}\\cos{(\\phi_n2\\pi t)}] \\\\\n",
    "S(t) = \\sum_{n=1}^{8} [\\underbrace{A_n \\cos(\\sigma_n)}_{x_{2n-1}}\\sin{(\\phi_n 2\\pi t)}\n",
    " + \\overbrace{A_n \\sin{(\\sigma_n)}}^{x_{2n}}\\cos{(\\phi_n2\\pi t)}] \\\\\n",
    "S(t) = \\sum_{n=1}^{8} x_{2n-1}\\sin{(\\phi_n 2\\pi t)} + \\sum_{n=1}^{8} x_{2n}\\cos{(\\phi_n2\\pi t)}, \\; A_n = \\sqrt{x_{2n}^2 + x_{2n-1}^2}\n",
    "$$\n",
    "\n",
    "Logo assim podemos ver que teremos 16 equações com diferentes coeficientes para serem encontrados, o que podemos fazer aplicando a técnica de mínimos quadrados. Aqueles que tiverem as maiores amplitudes serão os relacionados ao digito que buscamos"
   ]
  },
  {
   "cell_type": "code",
   "execution_count": 87,
   "metadata": {},
   "outputs": [],
   "source": [
    "#simplificação, ao invés de criarmos 16 funções diferentes podemos criar apenas essa\n",
    "def mmq(time, n):\n",
    "    frequency = int(n/2)\n",
    "    val = DTMF_FREQUENCIES[frequency] * math.pi * 2 * time\n",
    "    return math.sin(val) if (n % 2 == 0) else math.cos(val)\n",
    "\n",
    "\n",
    "A = np.zeros(shape=(SOUND_WAVE_ROWS, 16))\n",
    "for i in range(0, SOUND_WAVE_ROWS):\n",
    "    for j in range(0, 16):\n",
    "        A[i][j] = mmq(i * DELTA_T, j)\n"
   ]
  },
  {
   "cell_type": "markdown",
   "metadata": {},
   "source": [
    "Utilizando as equações normais temos que $\\hat{x}$ é uma solução para $ Ax = B <=> A^{T}A \\hat{x} = A^{T}b$ "
   ]
  },
  {
   "cell_type": "code",
   "execution_count": 93,
   "metadata": {},
   "outputs": [
    {
     "name": "stdout",
     "output_type": "stream",
     "text": [
      "(16, 16) (88000, 16)\n",
      "(16, 1) (88000, 1)\n",
      "(16, 1) [[-2.68548692e-04]\n",
      " [-1.31215627e-03]\n",
      " [ 3.22243610e-05]\n",
      " [ 5.13447816e-06]\n",
      " [-4.30898726e-06]\n",
      " [ 2.09448404e-05]\n",
      " [-1.41001068e-05]\n",
      " [ 1.87344497e-05]\n",
      " [-1.82552550e-05]\n",
      " [ 8.57686512e-06]\n",
      " [-1.62052002e-05]\n",
      " [-5.65334948e-05]\n",
      " [-9.09492207e-03]\n",
      " [ 1.91147908e-03]\n",
      " [ 5.37756640e-05]\n",
      " [ 3.16350112e-05]]\n"
     ]
    }
   ],
   "source": [
    "\n",
    "A_T = A.T\n",
    "\n",
    "A_T_dot_A = A_T @ A\n",
    "A_T_dot_b = A_T @ sound_wave\n",
    "\n",
    "print(A_T_dot_A.shape, A.shape)\n",
    "print(A_T_dot_b.shape, sound_wave.shape)\n",
    "\n",
    "result = np.linalg.solve(A_T_dot_A, A_T_dot_b)\n",
    "print(result.shape, result)"
   ]
  },
  {
   "cell_type": "code",
   "execution_count": 94,
   "metadata": {},
   "outputs": [
    {
     "name": "stdout",
     "output_type": "stream",
     "text": [
      "[1.33935525e-03 3.26308490e-05 2.13834915e-05 2.34476570e-05\n",
      " 2.01697038e-05 5.88102418e-05 9.29361931e-03 6.23906722e-05]\n",
      "697Hz & 1477Hz : 3\n"
     ]
    }
   ],
   "source": [
    "\n",
    "\n",
    "def get_max_frequency_idxs(frequency_matrix):\n",
    "    range_array = np.zeros((8))\n",
    "    j = 0\n",
    "    for i in range(0, 16, 2):\n",
    "        curr_frequency = (frequency_matrix[i]**2 + frequency_matrix[i+1]**2)**(1/2)\n",
    "        range_array[j] = curr_frequency\n",
    "        j += 1\n",
    "    return range_array[0:4].argmax(axis=0), range_array[4:8].argmax(axis=0), range_array\n",
    "\n",
    "\n",
    "low_freq_idx, high_freq_idx , range_array= get_max_frequency_idxs(result)\n",
    "print(range_array)\n",
    "print(f\"{DTMF_LOW_FREQUENCIES[low_freq_idx]}Hz & {DTMF_HIGH_FREQUENCIES[high_freq_idx]}Hz : {DTMF_DICT[low_freq_idx][high_freq_idx]}\");\n",
    "\n"
   ]
  }
 ],
 "metadata": {
  "kernelspec": {
   "display_name": "Python 3.8.10 64-bit",
   "language": "python",
   "name": "python3"
  },
  "language_info": {
   "codemirror_mode": {
    "name": "ipython",
    "version": 3
   },
   "file_extension": ".py",
   "mimetype": "text/x-python",
   "name": "python",
   "nbconvert_exporter": "python",
   "pygments_lexer": "ipython3",
   "version": "3.8.10"
  },
  "orig_nbformat": 4,
  "vscode": {
   "interpreter": {
    "hash": "916dbcbb3f70747c44a77c7bcd40155683ae19c65e1c03b4aa3499c5328201f1"
   }
  }
 },
 "nbformat": 4,
 "nbformat_minor": 2
}
