{
 "cells": [
  {
   "cell_type": "markdown",
   "metadata": {
    "tags": []
   },
   "source": [
    "## <font color='blue'>SME0104 - Cálculo Numérico</font>\n",
    "\n",
    "### Primeiro Trabalho em Grupo \n",
    "#### Comparação de Métodos na Solução do Laplaciano em Grafos para propagação de informação\n",
    "\n",
    "**Luis Gustavo Nonato**\n",
    "\n",
    "------"
   ]
  },
  {
   "cell_type": "markdown",
   "metadata": {},
   "source": [
    "Considere os arquivos `manh.el` e `manh.xy` que fornecem as arestas e as coordenadas dos vértices do grafo de ruas da ilha de Manhattan, NY (arquivos disponíveis para download no Google Drive).\n",
    "\n",
    "O grafo de ruas possui diversas componentes conexas, considerando somente a maior componente conexa, você deve realizar as seguintes tarefas:\n",
    "1. Selecione alguns vértices do grafo $v_{i_1},v_{i_2},\\ldots,v_{i_k},\\, k<<n$ ($n$ é o número de vértices na maior componente do grafo e $k$ é um número bem menor que $n$, $k=10$ por exemplo) e atribua valores distindos $c_{i_1},c_{i_2},\\ldots,c_{i_k}$ a cada um dos vértices selecionados (por exemplo valores no intervalo (0,10]);\n",
    "\n",
    "---\n",
    "\n",
    "\n",
    "2. Construa a matriz Laplaciana $L$ do grafo de ruas;\n",
    "3. Construa a matriz de penalidades $P$, sendo $P$ é uma matriz diagonal onde a entrada $P_{jj}=\\alpha$ se $j$ corresponde ao índice de algum dos vértices escolhidos no item 1 acima ($\\alpha=1.0e7$ por exemplo), sendo $P_{ii}=0$ caso contrário.\n",
    "4. Construa um vetor $b$ da seguinte forma:\n",
    "$$\n",
    "b_{j} = \\left\\{\\begin{matrix} c_{i_s} & \\:{ se } \\: j = i_s \\\\ 0 & \\:{ caso \\: contrário}\\end{matrix}\\right.\n",
    "$$\n",
    "5. Compare o tempo de solução do sistema\n",
    "$$\n",
    "(L+P)x = b\n",
    "$$\n",
    "para os métodos:\n",
    "    - Decomposição LU\n",
    "    - Cholesky\n",
    "    - Jacobi e Gaus-Seidel\n",
    "    - Gradientes Conjugados\n",
    "    \n",
    "6. Refaça as tarefas com representação por matriz esparsa e matrizes cheias, comparando os resultados."
   ]
  },
  {
   "cell_type": "markdown",
   "metadata": {},
   "source": [
    "Alunos: \n",
    "- Kauê Hunnicutt Bazilli - 11212226\n",
    "- Matheus Vieira Gonçalves - 11200397\n",
    "- Pedro Henrique dias Junqueira de Souza - 11294312"
   ]
  },
  {
   "cell_type": "code",
   "execution_count": 1,
   "metadata": {},
   "outputs": [
    {
     "name": "stdout",
     "output_type": "stream",
     "text": [
      "Requirement already satisfied: numpy in c:\\python39\\lib\\site-packages (1.22.3)\n",
      "Note: you may need to restart the kernel to use updated packages.\n"
     ]
    },
    {
     "name": "stderr",
     "output_type": "stream",
     "text": [
      "WARNING: Ignoring invalid distribution -ip (c:\\python39\\lib\\site-packages)\n",
      "WARNING: Ignoring invalid distribution -ip (c:\\python39\\lib\\site-packages)\n",
      "WARNING: Ignoring invalid distribution -ip (c:\\python39\\lib\\site-packages)\n",
      "WARNING: Ignoring invalid distribution -ip (c:\\python39\\lib\\site-packages)\n",
      "WARNING: Ignoring invalid distribution -ip (c:\\python39\\lib\\site-packages)\n",
      "WARNING: Ignoring invalid distribution -ip (c:\\python39\\lib\\site-packages)\n",
      "WARNING: You are using pip version 22.0.4; however, version 22.1.2 is available.\n",
      "You should consider upgrading via the 'c:\\Python39\\python.exe -m pip install --upgrade pip' command.\n"
     ]
    },
    {
     "name": "stdout",
     "output_type": "stream",
     "text": [
      "Requirement already satisfied: scipy in c:\\python39\\lib\\site-packages (1.8.1)\n",
      "Requirement already satisfied: numpy<1.25.0,>=1.17.3 in c:\\python39\\lib\\site-packages (from scipy) (1.22.3)\n",
      "Note: you may need to restart the kernel to use updated packages.\n"
     ]
    },
    {
     "name": "stderr",
     "output_type": "stream",
     "text": [
      "WARNING: Ignoring invalid distribution -ip (c:\\python39\\lib\\site-packages)\n",
      "WARNING: Ignoring invalid distribution -ip (c:\\python39\\lib\\site-packages)\n",
      "WARNING: Ignoring invalid distribution -ip (c:\\python39\\lib\\site-packages)\n",
      "WARNING: Ignoring invalid distribution -ip (c:\\python39\\lib\\site-packages)\n",
      "WARNING: Ignoring invalid distribution -ip (c:\\python39\\lib\\site-packages)\n",
      "WARNING: Ignoring invalid distribution -ip (c:\\python39\\lib\\site-packages)\n",
      "WARNING: You are using pip version 22.0.4; however, version 22.1.2 is available.\n",
      "You should consider upgrading via the 'c:\\Python39\\python.exe -m pip install --upgrade pip' command.\n"
     ]
    },
    {
     "name": "stdout",
     "output_type": "stream",
     "text": [
      "Requirement already satisfied: networkx in c:\\python39\\lib\\site-packages (2.8.2)\n",
      "Note: you may need to restart the kernel to use updated packages.\n"
     ]
    },
    {
     "name": "stderr",
     "output_type": "stream",
     "text": [
      "WARNING: Ignoring invalid distribution -ip (c:\\python39\\lib\\site-packages)\n",
      "WARNING: Ignoring invalid distribution -ip (c:\\python39\\lib\\site-packages)\n",
      "WARNING: Ignoring invalid distribution -ip (c:\\python39\\lib\\site-packages)\n",
      "WARNING: Ignoring invalid distribution -ip (c:\\python39\\lib\\site-packages)\n",
      "WARNING: Ignoring invalid distribution -ip (c:\\python39\\lib\\site-packages)\n",
      "WARNING: Ignoring invalid distribution -ip (c:\\python39\\lib\\site-packages)\n",
      "WARNING: You are using pip version 22.0.4; however, version 22.1.2 is available.\n",
      "You should consider upgrading via the 'c:\\Python39\\python.exe -m pip install --upgrade pip' command.\n"
     ]
    },
    {
     "name": "stdout",
     "output_type": "stream",
     "text": [
      "Requirement already satisfied: matplotlib in c:\\python39\\lib\\site-packages (3.5.1)\n",
      "Requirement already satisfied: numpy>=1.17 in c:\\python39\\lib\\site-packages (from matplotlib) (1.22.3)\n",
      "Requirement already satisfied: cycler>=0.10 in c:\\python39\\lib\\site-packages (from matplotlib) (0.11.0)\n",
      "Requirement already satisfied: pillow>=6.2.0 in c:\\python39\\lib\\site-packages (from matplotlib) (9.0.1)\n",
      "Requirement already satisfied: fonttools>=4.22.0 in c:\\python39\\lib\\site-packages (from matplotlib) (4.30.0)\n",
      "Requirement already satisfied: packaging>=20.0 in c:\\python39\\lib\\site-packages (from matplotlib) (21.3)\n",
      "Requirement already satisfied: python-dateutil>=2.7 in c:\\python39\\lib\\site-packages (from matplotlib) (2.8.2)\n",
      "Requirement already satisfied: pyparsing>=2.2.1 in c:\\python39\\lib\\site-packages (from matplotlib) (3.0.7)\n",
      "Requirement already satisfied: kiwisolver>=1.0.1 in c:\\python39\\lib\\site-packages (from matplotlib) (1.4.0)\n",
      "Requirement already satisfied: six>=1.5 in c:\\python39\\lib\\site-packages (from python-dateutil>=2.7->matplotlib) (1.16.0)\n",
      "Note: you may need to restart the kernel to use updated packages.\n"
     ]
    },
    {
     "name": "stderr",
     "output_type": "stream",
     "text": [
      "WARNING: Ignoring invalid distribution -ip (c:\\python39\\lib\\site-packages)\n",
      "WARNING: Ignoring invalid distribution -ip (c:\\python39\\lib\\site-packages)\n",
      "WARNING: Ignoring invalid distribution -ip (c:\\python39\\lib\\site-packages)\n",
      "WARNING: Ignoring invalid distribution -ip (c:\\python39\\lib\\site-packages)\n",
      "WARNING: Ignoring invalid distribution -ip (c:\\python39\\lib\\site-packages)\n",
      "WARNING: Ignoring invalid distribution -ip (c:\\python39\\lib\\site-packages)\n",
      "WARNING: You are using pip version 22.0.4; however, version 22.1.2 is available.\n",
      "You should consider upgrading via the 'c:\\Python39\\python.exe -m pip install --upgrade pip' command.\n"
     ]
    }
   ],
   "source": [
    "import sys\n",
    "import time\n",
    "%pip install --prefix {sys.prefix} numpy\n",
    "%pip install --prefix {sys.prefix} scipy\n",
    "%pip install --prefix {sys.prefix} networkx\n",
    "%pip install --prefix {sys.prefix} matplotlib\n",
    "\n",
    "import numpy as np\n",
    "import scipy as sci\n",
    "from scipy.sparse import linalg\n",
    "import networkx as nx\n",
    "import matplotlib.pyplot as plt\n",
    "from matplotlib import cm"
   ]
  },
  {
   "cell_type": "code",
   "execution_count": 2,
   "metadata": {},
   "outputs": [],
   "source": [
    "# Construção do grafo em memória com base nos arquivos\n",
    "G = nx.Graph()\n",
    "\n",
    "#Nós\n",
    "with open(\"./manh.xy\",\"r\") as file:\n",
    "    lines = file.readlines()\n",
    "    for i, line in enumerate(lines):\n",
    "        [x, y] = map(float, line.split(\"\\t\")) #Lê como floats\n",
    "        G.add_node(i, data=(x, y))\n",
    "\n",
    "#Arestas\n",
    "with open(\"./manh.el\",\"r\") as file:\n",
    "    lines = file.readlines()\n",
    "    for line in lines:\n",
    "        [x, y] = map(int, line.split(\"\\t\")) #Lê como ints\n",
    "        G.add_edge(x,y)\n",
    "        \n",
    "LCC_generator = max(nx.connected_components(G), key=len)\n",
    "G = G.subgraph(LCC_generator).copy()\n",
    "\n",
    "# Desse ponto em diante, G é a maior componente conexa"
   ]
  },
  {
   "cell_type": "code",
   "execution_count": 3,
   "metadata": {},
   "outputs": [
    {
     "name": "stdout",
     "output_type": "stream",
     "text": [
      "[ 498 1792 2581 7702 6577 2439 2724 2822 1247 6160 7128 5638 7254 5854\n",
      " 6456 6995 3508 1730 4898  523 7328 7705 3445 8217 8496  574 2091 1477\n",
      " 2086 8175 8229 4401 6574 6823 1149 7781 5655 3371 2960 1797 5047 5184\n",
      " 8457 5086 4821 6434 5169 1642 7159 6242 8608 8657 5677 8556 3124 5335\n",
      " 5825 5380 1764 1385 6654 4356 2820 2759 6240 3032 6429 6839 2491 1966\n",
      " 8137 6365 2751 5203 2812 6677 5041 1791 5882 7918 1479 2818  175 7769\n",
      " 4659 6080  151 1524 2736 7384 4023 6796 6294 6737 2475 1646 3149 2024\n",
      " 2680 2035  439 7818 1267 6340 6340 7360 4900 7891 2325 4443  796 1055\n",
      " 2063 5994 7520 7120 2754 3027 1934 1643 1676 3779 4007 1341 8486 4088\n",
      " 5133 7405 4603 3961  702 7074 6154  231 3624 5306 1879 7355 8619 8423\n",
      "  393 6810 2990 2692 7300 5681 3026 4941 7360 7012 8683 5579 2696  365\n",
      "   19 1511 7564 3152  402 8605 5354 7921 8521  610 6228 7590 1877 5645\n",
      " 4508 3513 7910  404  510 7555 6422 6936 5460 8481 3390  102 3856  934\n",
      " 1268 7435 3803 6911 6924 6579 3098 4716 4072  727 5822 6098 4414 5277\n",
      " 4927 7633 4473  314 1362 5340  627 2449 3261 2377 8261 8624 7593  109\n",
      " 1761 3385 2366 5579  310 5713 2934 4599  793  822 1963 4931  457 8674\n",
      " 5783 5946 7170  652 1352 2102 6035 3622 4744 2850 7966 4833 4892 4164\n",
      " 6885 1098 4276 2798 7105 8697 5687 3192 4902 7630 4613 7500 3147 4773\n",
      " 1579  773 8405  674 1948 4973 4401 1666 3689 5188 8530 3197 7441 6515\n",
      " 5015  773 6089 6757 1027 8643 1978 2497 4704 1968 4735 6070 1382 1357\n",
      " 6707 1692 1328 8191 5782 4520 3425 4533 4731 7523 5629 7536 7588 4028\n",
      " 1236 5332 3780 6994 6902 2977 6764 3521 1199  880 7701 2390 6884 3088\n",
      " 6430 2100 1651 8159 2183 1963 6933 7020 8017 1870 1675 1870 2934 3505\n",
      " 2486 3201 3438 7862 8141 7776 5320 4966 6767 7113 6317 6259 8052  564\n",
      " 3091 5776 1761 4054 7110 2862  916 4576 3350 2860  684 5305 5824 2941\n",
      " 7230 1419 2762 3916 6937 5161  277    2 6214 1506 6598 1121 3085 2665\n",
      " 8056  874 1518 7347 5542 5260 3013 3413 4071 5434 1028 3649 3903 1323\n",
      " 3240 1033 1656 8561 6143 6164 7099 7659 8374 2672 8192  223 4748 1884\n",
      " 8451 4791 2597 8224 1366 6047 8533 3227  622 2908 2489 4468 8364 3499\n",
      " 2099 2533  692  127 1845 6420 6431 5122 1516 2147 4624 1493 1332 8331\n",
      " 5546  149 6235 5343 5737 2940 6680  850 8377 2637 3481 2667 7071 5618\n",
      " 2384 2681 5373  597   91 2237 1157 1506 4074  604 2835 4707 4458 5655\n",
      " 3897  288 6144 5826 1915 7472 5746 6373 6931  179 7282 7478 4490 7904\n",
      " 7776 3513 4144 6388 3925 6769 6597 6578 2655 1587 4085 4832 6441  167\n",
      " 1637 2837 6720 6974 4570 3673 8528 2600 4812 1499 6317 5785 8512 8455\n",
      " 5185  448  203 2107 5023 8010 5717 1223  212 5963 6014 8145 4544 1370\n",
      " 7408 5651 2497 3161 6947 1550 7793 6716 6921 5982 8130 8025 1848 3306\n",
      " 3369 8146  101 1977 5336  488 6042 2500 1514 1375 6924 2273  427  863\n",
      " 7189 7227 2720 4086 2203 8320  410 6945 6921 8170 7576 1936 6042 4617\n",
      " 2193 7181 3586 7832 3764  684 4334 5118 2263 4010  665 4879 6340 8532\n",
      " 2018 1724 4856 4139 5184 1874 2556 4221 7783 7493 4101 7102 1234  729\n",
      "  291 5253 6867 2112   10 7050 2379 7291 1136  727 1878 1169 5089 4107\n",
      " 5531 4434 1944 1099 4469 1543 4414  679 2252  807 6716 6461 2302  439\n",
      " 5186  520 6422 6469 3646  470 3107 8021 6182  221 2059 5147 8090 4746\n",
      " 2323 7054 6254 6046 6447 8454 8699 7886 5484 3067 6126  905 6709 7037\n",
      " 2843 1105 4573 3691  617 6875 5974 1817 1608 2551 5711 2643 4041 3633\n",
      " 3160 3632 5005 7223 7168   53 7816 8013 5758 7803 3313 2693 5838 2431\n",
      " 4484 5620 8549 5331 7963 1985 5826 4527 7028 6152  407 3473 8138 4591\n",
      " 7321 3590 1953 2394 8514 5818 7874  899  896 6767 6708 5551 6133 8651\n",
      " 4898  696 6114 5968 5480 4349 3677 1516 3300  916 3823 6132  887 2053\n",
      " 1513  426 5522 4575 3178 7017 4328 2786 3942 3323 1770 7389 6396 3904\n",
      " 8430  134 3806 1969 3824 1595  768 6406 8685 4486 2248 2564 2469 3918\n",
      " 1074 3315  338  127 5337 4793 8467 7102 5898 2470 8257  796 2348  734\n",
      " 7000 3360 4612 1126 3859 2323 1360 8481 1038  532 4831 7758 1634 4925\n",
      " 6860 5946 5814 3490 2533 6840 4845 2180 7209  243 8421 1807 2900   36\n",
      " 4138 3156 3056 3605 6464 2423 2704 2962 6292 2391 2196 1629 8484 5099\n",
      "  402  289 7512 8303 1569 2781 6627 3241 4139 3272 5462 2358 4385  995\n",
      " 3820 7142 2874 7589  139  196 4359 4641 6499 6304 4915 6894 5958 1950\n",
      " 8106 6185 3673 7747 3414 5313 6522 2921 5507 6936 8280 5810 3099 3239\n",
      " 2825 3164 7648  742 8643 3103 7588 4556 2433 8300 5375  647 6800 3678\n",
      " 4761  481 5858 2414 2006 4040 5060 6389 2280 3010 2880 3351 7965 1256\n",
      " 2194  931   79 8511  176 4644 5323 2061 6408 6599 3550 6803 5619 1419\n",
      " 6499 3834  305 6221 5543 5294 3763 3459 7487 7245 5794 6534 8209 1963\n",
      " 1648 7719 4739 6798 3138 4672 7851 6449 2605 5820 7077 2498 6646 1231\n",
      " 7611  434  780 5790 4345 8405 2960 5653 8291 1188 8650 7051 2384 2035\n",
      "  680 7109 5589 4142  298  540 2849 1159 8470 4047 1188 8460 3570 6595\n",
      "  821 4549 4270 4791  724 5794  709 3338 8053 7503 1522 5324 6261 8180\n",
      " 5504  385  413   50 2342 3604 4699  822 7306  930 6635 8072  808 4717\n",
      " 3329  394 8617 5525   68  855 3727 2184 6706 5018 4393 4700 2707  493\n",
      " 8461 8625 5231 7685 1056 2445 3069 6602 7986 3723 2354 2565 2315 7916\n",
      " 6548 7246 8300  213 4123 3582  771 3091 1189 4131 4581 2122 2616 7840\n",
      " 8402 3911 4943 3566 6782 5138]\n"
     ]
    }
   ],
   "source": [
    "# 1) Selecione alguns vértices do grafo e atribua valores distintos a cada um dos vértices selecionados\n",
    "\n",
    "# Uma lista dos índices e outra lista com os seus respectivos valores\n",
    "c_indexes = np.random.randint(0, len(G), 1000)\n",
    "c_values = np.random.uniform(0, 10, len(c_indexes))\n",
    "print(c_indexes)"
   ]
  },
  {
   "cell_type": "code",
   "execution_count": 4,
   "metadata": {},
   "outputs": [
    {
     "name": "stderr",
     "output_type": "stream",
     "text": [
      "<class 'networkx.utils.decorators.argmap'> compilation 8:4: FutureWarning: laplacian_matrix will return a scipy.sparse array instead of a matrix in Networkx 3.0.\n"
     ]
    },
    {
     "data": {
      "text/plain": [
       "(8708, 8708)"
      ]
     },
     "execution_count": 4,
     "metadata": {},
     "output_type": "execute_result"
    }
   ],
   "source": [
    "# 2) Construa a matriz Laplaciana L do grafo de ruas\n",
    "\n",
    "# Obtendo a matriz laplaciana\n",
    "L = np.array(nx.laplacian_matrix(G).todense())\n",
    "L.shape"
   ]
  },
  {
   "cell_type": "code",
   "execution_count": 5,
   "metadata": {},
   "outputs": [],
   "source": [
    "# 3) Construa a matriz de penalidades P\n",
    "\n",
    "P_diag =  [1e7 if i in c_indexes else 0 for i in range(len(G))]\n",
    "P = np.diag(P_diag)"
   ]
  },
  {
   "cell_type": "code",
   "execution_count": 6,
   "metadata": {},
   "outputs": [],
   "source": [
    "# 4) Construa o vetor b \n",
    "# Px = b\n",
    "# b é um vetor com ci nos índices i escolhidos na 1) e 0 em todo o resto.\n",
    "b = np.zeros(len(G))\n",
    "for i,ci in enumerate(c_indexes):\n",
    "    b[ci] = c_values[i]"
   ]
  },
  {
   "cell_type": "code",
   "execution_count": 7,
   "metadata": {},
   "outputs": [
    {
     "name": "stdout",
     "output_type": "stream",
     "text": [
      "(8708, 8708)\n",
      "(8708, 8708)\n",
      "(8708,)\n"
     ]
    }
   ],
   "source": [
    "# TODO: 5) Compare o tempo de solução do sistema (L + P)x = Px = b para os métodos:\n",
    "#   - Decomposição LU\n",
    "#   - Cholesky\n",
    "#   - Jacobi e Gaus-Seidel\n",
    "#   - Gradientes Conjugados\n",
    "# NOTE: Pode usar métodos embutidos do numpy e etc...\n",
    "#\n",
    "# Lx = 0\n",
    "# Px = b\n",
    "#\n",
    "# Nem P nem L são invertíveis, mas (L + P) é, então resolvemos a soma dos sistemas:\n",
    "#\n",
    "# (L + P)x = Px = b\n",
    "\n",
    "L_plus_P_dense = np.add(L, P)\n",
    "L_plus_P_csc_sparse =sci.sparse.csc_matrix(L_plus_P_dense)\n",
    "\n",
    "b_dense = b\n",
    "\n",
    "print(L_plus_P_csc_sparse.shape)\n",
    "\n",
    "print(L_plus_P_dense.shape)\n",
    "\n",
    "print(b_dense.shape)\n"
   ]
  },
  {
   "cell_type": "code",
   "execution_count": 15,
   "metadata": {},
   "outputs": [
    {
     "name": "stdout",
     "output_type": "stream",
     "text": [
      "Decomposição LU é possível: True\n",
      "Decomposição de Cholesky é possível: True\n",
      "Método de Jacobi tem convergência garantida: False\n",
      "Método de Gauss-seidel tem convergência garantida: False\n",
      "Método dos gradientes conjugados tem convergência garantida: True\n"
     ]
    }
   ],
   "source": [
    "# Testes de convergência\n",
    "\n",
    "# Teste da existência da decomposição LU:\n",
    "\n",
    "# Para a existência da decomposição LU, é necessário que a matriz tenha\n",
    "# os determinantes dos menores principais não-nulos.\n",
    "def first_minor_determinants_not_null(m):\n",
    "    for i in range(1,len(m)+1):\n",
    "        first_minor_determinant = sci.linalg.det(m[0:i,0:i])\n",
    "        if first_minor_determinant == 0:\n",
    "            return False\n",
    "\n",
    "    return True\n",
    "\n",
    "# Essa operação é mais custosa do que a decomposição LU em si, devido\n",
    "# à grande quantidade de determinantes que devem ser calculados. \n",
    "# Após o teste da execução da decomposição LU, é possível concluir que ela de fato\n",
    "# existe, e, como esta é uma condição necessária, pode-se inferir que o teste\n",
    "# é bem sucedido.\n",
    "lu_possible = True #first_minor_determinants_not_null(L_plus_P_dense)\n",
    "print(f\"Decomposição LU é possível: {lu_possible}\")\n",
    "\n",
    "\n",
    "# Teste da existência da decomposição de Cholesky:\n",
    "\n",
    "# Para verificar se é possível realizar a decomposição de Cholesky,\n",
    "# é necessário verificar se a matriz é simétrica e positiva definida.\n",
    "def is_symmetric(m):\n",
    "    #Compara matriz com sua transposta\n",
    "    return np.allclose(m, m.T) \n",
    "\n",
    "# É possível concluir que uma matriz é positiva definida se ela \n",
    "# tem autovalores positivos. É possível usar a matriz esparsa aqui \n",
    "# para otimizar os cálculos.\n",
    "def is_pos_def(m):\n",
    "    # Calcula autovalores\n",
    "    eigs = sci.sparse.linalg.eigs(m, return_eigenvectors=False)\n",
    "\n",
    "    for eigenvalue in eigs:\n",
    "        if eigenvalue <= 0:\n",
    "            return False\n",
    "    \n",
    "    return True\n",
    "\n",
    "\n",
    "cholesky_possible = is_symmetric(L_plus_P_dense) and is_pos_def(L_plus_P_csc_sparse)\n",
    "print(f\"Decomposição de Cholesky é possível: {cholesky_possible}\")\n",
    "\n",
    "\n",
    "# Teste da convergência do método de Jacobi\n",
    "\n",
    "# Como condição suficiente para a convergência do método de Jacobi, \n",
    "# pode-se usar o critério das linhas ou o critério das colunas, bastando\n",
    "# um deles ser atendido. Como essas condições são suficientes, e não \n",
    "# necessárias, pode ser que o método venha a convergir mesmo com a \n",
    "# falha desses critérios. \n",
    "\n",
    "# Critério das linhas\n",
    "def row_criterion(m):\n",
    "    for i in range(len(m)):\n",
    "        line_sum = 0\n",
    "        for j in range(len(m[i])):\n",
    "            if(i != j):\n",
    "                line_sum += (abs(m[i][j])/abs(m[i][i]))\n",
    "        \n",
    "        if(line_sum >= 1):\n",
    "            return False\n",
    "\n",
    "    return True\n",
    "\n",
    "# Critério das colunas\n",
    "def column_criterion(m):\n",
    "    for i in range(len(m)):\n",
    "        column_sum = 0\n",
    "        for j in range(len(m[i])):\n",
    "            if(i != j):\n",
    "                column_sum += (abs(m[j][i])/abs(m[i][i]))\n",
    "        \n",
    "        if(column_sum >= 1):\n",
    "            return False\n",
    "\n",
    "    return True\n",
    "\n",
    "jacobi_guaranteed = row_criterion(L_plus_P_dense) or column_criterion(L_plus_P_dense)\n",
    "print(f\"Método de Jacobi tem convergência garantida: {jacobi_guaranteed}\")\n",
    "\n",
    "# Teste da convergência do método de Gauss-Seidel\n",
    "\n",
    "# Mais uma vez, temos apenas condições suficientes, e não\n",
    "# necessárias para a convergência: Deve ser atendido o critério das linhas\n",
    "# e o critério de Sassenfeld.\n",
    "\n",
    "def sassenfeld_criterion(m):\n",
    "    b = [0]\n",
    "    for j in range(1,len(m)):\n",
    "        b[0] += abs(m[0][j])\n",
    "    b[0] /= abs(m[0][0])\n",
    "\n",
    "    for i in range(1,len(m)):\n",
    "        b.append(0)\n",
    "        for j in range(0,i):\n",
    "            b[i] += abs(m[i][j])*b[j]\n",
    "        for j in range(i+1,len(m)):\n",
    "            b[i] += abs(m[i][j])\n",
    "        b[i] /= abs(m[i][i])\n",
    "\n",
    "    if(max(b) < 1):\n",
    "        return True\n",
    "    else:\n",
    "        return False\n",
    "\n",
    "gauss_seidel_guaranteed = row_criterion(L_plus_P_dense) and sassenfeld_criterion(L_plus_P_dense)\n",
    "print(f\"Método de Gauss-seidel tem convergência garantida: {gauss_seidel_guaranteed}\")\n",
    "\n",
    "# Teste de convergência para o método dos gradientes conjugados:\n",
    "\n",
    "# Para que o método dos gradientes conjugados convirja, temos a condição\n",
    "# suficiente de que a matriz seja simétrica e positiva definida\n",
    "\n",
    "conjugate_gradient_guaranteed = is_pos_def(L_plus_P_csc_sparse) and is_symmetric(L_plus_P_dense)\n",
    "print(f\"Método dos gradientes conjugados tem convergência garantida: {conjugate_gradient_guaranteed}\")\n"
   ]
  },
  {
   "cell_type": "code",
   "execution_count": 30,
   "metadata": {},
   "outputs": [],
   "source": [
    "# Decomposição LU\n",
    "\n",
    "def dense_lu_solver(A,b):\n",
    "\tlu, piv = sci.linalg.lu_factor(A)\n",
    "\tx = sci.linalg.lu_solve((lu,piv),b)\n",
    "\treturn x\n",
    "\n",
    "def sparse_lu_solver(A,b):\n",
    "\tlu = linalg.splu(A)\n",
    "\tx = lu.solve(b)\n",
    "\treturn x\n"
   ]
  },
  {
   "cell_type": "code",
   "execution_count": 9,
   "metadata": {},
   "outputs": [],
   "source": [
    "# Decomposição de cholesky\n",
    "\n",
    "def dense_cholesky_solver(A,b):\n",
    "\tc, low = sci.linalg.cho_factor(A)\n",
    "\tx = sci.linalg.cho_solve((c,low),b)\n",
    "\treturn x\n",
    "\n",
    "def sparse_cholesky_solver(A,b):\n",
    "\tc, low = sci.linalg.cho_factor(A)\n",
    "\tx = sci.linalg.cho_solve((c,low),b)\n",
    "\treturn False\n"
   ]
  },
  {
   "cell_type": "code",
   "execution_count": 10,
   "metadata": {},
   "outputs": [],
   "source": [
    "# gradientes conjugados\n",
    "\n",
    "def sparse_cg_solver(A, b):\n",
    "    return linalg.cg(A, b, tol=1e-12)\n",
    "\n",
    "\n",
    "def dense_cg_solver(A, b):\n",
    "    return linalg.cg(A, b, tol=1e-12)\n",
    "\n"
   ]
  },
  {
   "cell_type": "code",
   "execution_count": 11,
   "metadata": {},
   "outputs": [],
   "source": [
    "# Gauss-jacobi\n",
    "\n",
    "def dense_jacobi_solver(A, b, err, err_relative):\n",
    "    count = 0\n",
    "    r, c = A.shape\n",
    "    x = np.zeros(r)\n",
    "\n",
    "    D = np.diag(A)\n",
    "    R = A - np.diagflat(D)\n",
    "    curr_err = err + 1\n",
    "    curr_err_relative = err_relative + 1\n",
    "\n",
    "    while curr_err > err or curr_err_relative > err_relative:\n",
    "        last_x = x.copy()\n",
    "        x = (b - np.dot(R, x)) / D\n",
    "\n",
    "        max_distance = -1\n",
    "        max_module = -1\n",
    "\n",
    "        for i in range(c):\n",
    "            curr_distance = abs(last_x[i] - x[i])\n",
    "            max_distance = curr_distance if curr_distance > max_distance else max_distance\n",
    "            max_module = abs(x[i]) if abs(x[i]) > max_module else max_module\n",
    "\n",
    "        curr_err = max_distance\n",
    "        curr_err_relative = max_distance/max_module\n",
    "\n",
    "    return x\n",
    "\n",
    "\n"
   ]
  },
  {
   "cell_type": "code",
   "execution_count": 12,
   "metadata": {},
   "outputs": [],
   "source": [
    "# Gauss-Seidel\n",
    "def dense_gauss_seidel_solver(A, b, err, err_relative):\n",
    "    r, c = A.shape\n",
    "    x = np.zeros(r)\n",
    "    count = 0\n",
    "    curr_err = err + 1\n",
    "    curr_err_relative = err_relative + 1\n",
    "\n",
    "    while curr_err > err or curr_err_relative > err_relative:\n",
    "\n",
    "        last_x = x.copy()\n",
    "\n",
    "        for i in range(r):\n",
    "            x[i] = (b[i] - np.dot(A[i, :i], x[:i]) -\n",
    "                    np.dot(A[i, (i+1):], last_x[(i+1):])) / A[i, i]\n",
    "\n",
    "        max_distance = -1\n",
    "        max_module = -1\n",
    "\n",
    "        for i in range(c):\n",
    "            curr_distance = abs(last_x[i] - x[i])\n",
    "            max_distance = curr_distance if curr_distance > max_distance else max_distance\n",
    "            max_module = abs(x[i]) if abs(x[i]) > max_module else max_module\n",
    "\n",
    "        curr_err = max_distance\n",
    "        curr_err_relative = max_distance/max_module\n",
    "\n",
    "    return x\n",
    "\n"
   ]
  },
  {
   "cell_type": "code",
   "execution_count": 13,
   "metadata": {},
   "outputs": [],
   "source": [
    "def execute_method(method, *args):\n",
    "    start = time.time()\n",
    "    answer = method(*args)\n",
    "    total_time = time.time()-start\n",
    "    return answer, total_time\n"
   ]
  },
  {
   "cell_type": "code",
   "execution_count": 14,
   "metadata": {},
   "outputs": [
    {
     "name": "stdout",
     "output_type": "stream",
     "text": [
      "[6.46099573e-07 4.51169052e-07 4.82258249e-07 ... 6.38453532e-07\n",
      " 5.92435793e-07 4.15223484e-07]\n",
      "tempo do método padrão np.linalg.solve: 7.4248127937316895\n"
     ]
    }
   ],
   "source": [
    "std_dense_solution, std_dense_solution_time = execute_method(\n",
    "    np.linalg.solve, L_plus_P_dense, b_dense)\n",
    "\n",
    "print(std_dense_solution)\n",
    "print(f\"tempo do método padrão np.linalg.solve: {std_dense_solution_time}\")"
   ]
  },
  {
   "cell_type": "code",
   "execution_count": 15,
   "metadata": {},
   "outputs": [
    {
     "name": "stdout",
     "output_type": "stream",
     "text": [
      "[6.46099573e-07 4.51169052e-07 4.82258249e-07 ... 6.38453532e-07\n",
      " 5.92435793e-07 4.15223484e-07]\n",
      "tempo do método padrão scipy.sparse.linalg.solve: 0.018331289291381836\n"
     ]
    }
   ],
   "source": [
    "std_sparse_solution, std_sparse_solution_time = execute_method(\n",
    "    linalg.spsolve, L_plus_P_csc_sparse, b_dense)\n",
    "\n",
    "print(std_sparse_solution)\n",
    "print(\n",
    "    f\"tempo do método padrão scipy.sparse.linalg.solve: {std_sparse_solution_time}\")"
   ]
  },
  {
   "cell_type": "code",
   "execution_count": 16,
   "metadata": {},
   "outputs": [
    {
     "name": "stdout",
     "output_type": "stream",
     "text": [
      "[6.46099573e-07 4.51169052e-07 4.82258249e-07 ... 6.38453532e-07\n",
      " 5.92435793e-07 4.15223484e-07]\n",
      "tempo do método de decomposição LU em uma matriz densa: 8.300081729888916\n"
     ]
    }
   ],
   "source": [
    "dense_lu_solution, dense_lu_solution_time = execute_method(\n",
    "    dense_lu_solver, L_plus_P_dense, b_dense)\n",
    "\n",
    "print(dense_lu_solution)\n",
    "print(\n",
    "    f\"tempo do método de decomposição LU em uma matriz densa: {dense_lu_solution_time}\")"
   ]
  },
  {
   "cell_type": "code",
   "execution_count": 17,
   "metadata": {},
   "outputs": [
    {
     "name": "stdout",
     "output_type": "stream",
     "text": [
      "[6.46099573e-07 4.51169052e-07 4.82258249e-07 ... 6.38453532e-07\n",
      " 5.92435793e-07 4.15223484e-07]\n",
      "tempo do método de decomposição LU em uma matriz esparsa: 0.027009248733520508\n"
     ]
    }
   ],
   "source": [
    "\n",
    "sparse_lu_solution, sparse_lu_solution_time = execute_method(\n",
    "    sparse_lu_solver, L_plus_P_csc_sparse, b_dense)\n",
    "\n",
    "print(sparse_lu_solution)\n",
    "print(\n",
    "    f\"tempo do método de decomposição LU em uma matriz esparsa: {sparse_lu_solution_time}\")"
   ]
  },
  {
   "cell_type": "code",
   "execution_count": 18,
   "metadata": {},
   "outputs": [
    {
     "name": "stdout",
     "output_type": "stream",
     "text": [
      "[6.46099573e-07 4.51169052e-07 4.82258249e-07 ... 6.38453532e-07\n",
      " 5.92435793e-07 4.15223484e-07]\n",
      "tempo do método de decomposição cholesky em uma matriz densa: 5.050318717956543\n"
     ]
    }
   ],
   "source": [
    "dense_cholesky_solution, dense_cholesky_solution_time = execute_method(\n",
    "    dense_cholesky_solver, L_plus_P_dense, b_dense)\n",
    "\n",
    "print(dense_cholesky_solution)\n",
    "print(\n",
    "    f\"tempo do método de decomposição cholesky em uma matriz densa: {dense_cholesky_solution_time}\")"
   ]
  },
  {
   "cell_type": "code",
   "execution_count": 19,
   "metadata": {},
   "outputs": [
    {
     "name": "stdout",
     "output_type": "stream",
     "text": [
      "(array([6.46089357e-07, 4.51168726e-07, 4.82259740e-07, ...,\n",
      "       6.38450429e-07, 5.92428616e-07, 4.15224376e-07]), 0)\n",
      "tempo do método de gradiente conjugados em uma matriz densa: 6.937185049057007\n"
     ]
    }
   ],
   "source": [
    "\n",
    "dense_cg_solution, dense_cg_solution_time = execute_method(\n",
    "    dense_cg_solver, L_plus_P_dense, b_dense)\n",
    "\n",
    "print(dense_cg_solution)\n",
    "print(\n",
    "    f\"tempo do método de gradiente conjugados em uma matriz densa: {dense_cg_solution_time}\")"
   ]
  },
  {
   "cell_type": "code",
   "execution_count": 20,
   "metadata": {},
   "outputs": [
    {
     "name": "stdout",
     "output_type": "stream",
     "text": [
      "(array([6.46089357e-07, 4.51168726e-07, 4.82259740e-07, ...,\n",
      "       6.38450429e-07, 5.92428616e-07, 4.15224376e-07]), 0)\n",
      "tempo do método de gradiente conjugados em uma matriz esparsa: 0.036994218826293945\n"
     ]
    }
   ],
   "source": [
    "sparse_cg_solution, sparse_cg_solution_time = execute_method(\n",
    "    sparse_cg_solver, L_plus_P_csc_sparse, b_dense)\n",
    "\n",
    "print(sparse_cg_solution)\n",
    "print(\n",
    "    f\"tempo do método de gradiente conjugados em uma matriz esparsa: {sparse_cg_solution_time}\")"
   ]
  },
  {
   "cell_type": "code",
   "execution_count": 21,
   "metadata": {},
   "outputs": [
    {
     "name": "stdout",
     "output_type": "stream",
     "text": [
      "[6.46099573e-07 4.51169052e-07 4.82258249e-07 ... 6.38453532e-07\n",
      " 5.92435793e-07 4.15223484e-07]\n",
      "tempo do método de Jacobi em uma matriz densa: 133.0290231704712\n"
     ]
    }
   ],
   "source": [
    "dense_jacobi_solution, dense_jacobi_solution_time = execute_method(\n",
    "    dense_jacobi_solver, L_plus_P_dense, b_dense, 1e-12, 1e-12)\n",
    "\n",
    "print(dense_jacobi_solution)\n",
    "print(\n",
    "    f\"tempo do método de Jacobi em uma matriz densa: {dense_jacobi_solution_time}\")"
   ]
  },
  {
   "cell_type": "code",
   "execution_count": 22,
   "metadata": {},
   "outputs": [
    {
     "name": "stdout",
     "output_type": "stream",
     "text": [
      "[6.46099573e-07 4.51169052e-07 4.82258249e-07 ... 6.38453532e-07\n",
      " 5.92435793e-07 4.15223484e-07]\n",
      "tempo do método de Seidel em uma matriz densa: 220.86482334136963\n"
     ]
    }
   ],
   "source": [
    "dense_gauss_seidel_solution, dense_gauss_seidel_solution_time = execute_method(dense_gauss_seidel_solver,\n",
    "    L_plus_P_dense, b_dense, 1e-12, 1e-12)\n",
    "\n",
    "print(dense_gauss_seidel_solution)\n",
    "print(\n",
    "    f\"tempo do método de Seidel em uma matriz densa: {dense_gauss_seidel_solution_time}\")"
   ]
  }
 ],
 "metadata": {
  "interpreter": {
   "hash": "81794d4967e6c3204c66dcd87b604927b115b27c00565d3d43f05ba2f3a2cb0d"
  },
  "kernelspec": {
   "display_name": "Python 3.9.4 64-bit",
   "language": "python",
   "name": "python3"
  },
  "language_info": {
   "codemirror_mode": {
    "name": "ipython",
    "version": 3
   },
   "file_extension": ".py",
   "mimetype": "text/x-python",
   "name": "python",
   "nbconvert_exporter": "python",
   "pygments_lexer": "ipython3",
   "version": "3.9.4"
  }
 },
 "nbformat": 4,
 "nbformat_minor": 4
}
