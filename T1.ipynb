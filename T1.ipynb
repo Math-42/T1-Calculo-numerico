{
 "cells": [
  {
   "cell_type": "markdown",
   "metadata": {
    "tags": []
   },
   "source": [
    "## <font color='blue'>SME0104 - Cálculo Numérico</font>\n",
    "\n",
    "### Primeiro Trabalho em Grupo \n",
    "#### Comparação de Métodos na Solução do Laplaciano em Grafos para propagação de informação\n",
    "\n",
    "**Luis Gustavo Nonato**\n",
    "\n",
    "------"
   ]
  },
  {
   "cell_type": "markdown",
   "metadata": {},
   "source": [
    "Considere os arquivos `manh.el` e `manh.xy` que fornecem as arestas e as coordenadas dos vértices do grafo de ruas da ilha de Manhattan, NY (arquivos disponíveis para download no Google Drive).\n",
    "\n",
    "O grafo de ruas possui diversas componentes conexas, considerando somente a maior componente conexa, você deve realizar as seguintes tarefas:\n",
    "1. Selecione alguns vértices do grafo $v_{i_1},v_{i_2},\\ldots,v_{i_k},\\, k<<n$ ($n$ é o número de vértices na maior componente do grafo e $k$ é um número bem menor que $n$, $k=10$ por exemplo) e atribua valores distindos $c_{i_1},c_{i_2},\\ldots,c_{i_k}$ a cada um dos vértices selecionados (por exemplo valores no intervalo (0,10]);\n",
    "\n",
    "---\n",
    "\n",
    "\n",
    "2. Construa a matriz Laplaciana $L$ do grafo de ruas;\n",
    "3. Construa a matriz de penalidades $P$, sendo $P$ é uma matriz diagonal onde a entrada $P_{jj}=\\alpha$ se $j$ corresponde ao índice de algum dos vértices escolhidos no item 1 acima ($\\alpha=1.0e7$ por exemplo), sendo $P_{ii}=0$ caso contrário.\n",
    "4. Construa um vetor $b$ da seguinte forma:\n",
    "$$\n",
    "b_{j} = \\left\\{\\begin{matrix} c_{i_s} & \\mbox{ se } j = i_s \\\\ 0 & \\mbox{ caso contrário}\\end{matrix}\\right.\n",
    "$$\n",
    "5. Compare o tempo de solução do sistema\n",
    "$$\n",
    "(L+P)x = Px\n",
    "$$\n",
    "para os métodos:\n",
    "    - Decomposição LU\n",
    "    - Cholesky\n",
    "    - Jacobi e Gaus-Seidel\n",
    "    - Gradientes Conjugados\n",
    "    \n",
    "6. Refaça as tarefas com representação por matriz esparsa e matrizes cheias, comparando os resultados."
   ]
  },
  {
   "cell_type": "markdown",
   "metadata": {},
   "source": [
    "Alunos: \n",
    "- Kauê Hunnicutt Bazilli - 11212226\n",
    "- Matheus\n",
    "- Pedro Henrique dias Junqueira de Souza - 11294312"
   ]
  },
  {
   "cell_type": "code",
   "execution_count": 1,
   "metadata": {},
   "outputs": [
    {
     "name": "stdout",
     "output_type": "stream",
     "text": [
      "Requirement already satisfied: numpy in /usr/lib/python3.10/site-packages (1.22.3)\n",
      "Note: you may need to restart the kernel to use updated packages.\n",
      "Requirement already satisfied: networkx in /usr/lib/python3.10/site-packages (2.7.1)\n",
      "Note: you may need to restart the kernel to use updated packages.\n"
     ]
    }
   ],
   "source": [
    "import sys\n",
    "%pip install --prefix {sys.prefix} numpy\n",
    "%pip install --prefix {sys.prefix} networkx\n",
    "\n",
    "import numpy as np\n",
    "import networkx as nx"
   ]
  },
  {
   "cell_type": "code",
   "execution_count": 2,
   "metadata": {},
   "outputs": [],
   "source": [
    "# Construção do grafo em memória com base nos arquivos\n",
    "G = nx.Graph()\n",
    "\n",
    "#Nós\n",
    "with open(\"./manh.xy\",\"r\") as file:\n",
    "    lines = file.readlines()\n",
    "    for i, line in enumerate(lines):\n",
    "        [x, y] = map(float, line.split(\"\\t\")) #Lê como floats\n",
    "        G.add_node(i, data=(x, y))\n",
    "\n",
    "#Arestas\n",
    "with open(\"./manh.el\",\"r\") as file:\n",
    "    lines = file.readlines()\n",
    "    for line in lines:\n",
    "        [x, y] = map(int, line.split(\"\\t\")) #Lê como ints\n",
    "        G.add_edge(x,y)\n",
    "        \n",
    "# Obtendo maior componente conexa\n",
    "LCC_generator = max(nx.connected_components(G), key=len)\n",
    "G = G.subgraph(LCC_generator).copy()\n",
    "\n",
    "# Desse ponto em diante, G é a maior componente conexa"
   ]
  },
  {
   "cell_type": "code",
   "execution_count": 3,
   "metadata": {},
   "outputs": [],
   "source": [
    "# 1) Selecione alguns vértices do grafo e atribua valores distintos a cada um dos vértices selecionados\n",
    "\n",
    "# Uma lista dos índices e outra lista com os seus respectivos valores\n",
    "c_indexes = np.random.randint(0, len(G), 100)\n",
    "c_values = np.random.uniform(0, 10, len(c_indexes))"
   ]
  },
  {
   "cell_type": "code",
   "execution_count": 4,
   "metadata": {},
   "outputs": [
    {
     "name": "stderr",
     "output_type": "stream",
     "text": [
      "<class 'networkx.utils.decorators.argmap'> compilation 8:4: FutureWarning: laplacian_matrix will return a scipy.sparse array instead of a matrix in Networkx 3.0.\n"
     ]
    },
    {
     "data": {
      "text/plain": [
       "(8708, 8708)"
      ]
     },
     "execution_count": 4,
     "metadata": {},
     "output_type": "execute_result"
    }
   ],
   "source": [
    "# 2) Construa a matriz Laplaciana L do grafo de ruas\n",
    "\n",
    "# Obtendo a matriz laplaciana\n",
    "L = np.array(nx.laplacian_matrix(G).todense())\n",
    "L.shape"
   ]
  },
  {
   "cell_type": "code",
   "execution_count": 19,
   "metadata": {},
   "outputs": [
    {
     "data": {
      "text/plain": [
       "array([[0., 0., 0., ..., 0., 0., 0.],\n",
       "       [0., 0., 0., ..., 0., 0., 0.],\n",
       "       [0., 0., 0., ..., 0., 0., 0.],\n",
       "       ...,\n",
       "       [0., 0., 0., ..., 0., 0., 0.],\n",
       "       [0., 0., 0., ..., 0., 0., 0.],\n",
       "       [0., 0., 0., ..., 0., 0., 0.]])"
      ]
     },
     "execution_count": 19,
     "metadata": {},
     "output_type": "execute_result"
    }
   ],
   "source": [
    "# 3) Construa a matriz de penalidades P\n",
    "\n",
    "P_diag =  [1e7 if i in c_indexes else 0 for i in range(len(G))]\n",
    "P = np.diag(P_diag)"
   ]
  },
  {
   "cell_type": "code",
   "execution_count": 11,
   "metadata": {},
   "outputs": [
    {
     "ename": "ValueError",
     "evalue": "7 is not in list",
     "output_type": "error",
     "traceback": [
      "\u001b[0;31m---------------------------------------------------------------------------\u001b[0m",
      "\u001b[0;31mValueError\u001b[0m                                Traceback (most recent call last)",
      "Input \u001b[0;32mIn [11]\u001b[0m, in \u001b[0;36m<cell line: 1>\u001b[0;34m()\u001b[0m\n\u001b[0;32m----> 1\u001b[0m \u001b[43m[\u001b[49m\u001b[38;5;241;43m1\u001b[39;49m\u001b[43m,\u001b[49m\u001b[38;5;241;43m2\u001b[39;49m\u001b[43m,\u001b[49m\u001b[38;5;241;43m3\u001b[39;49m\u001b[43m,\u001b[49m\u001b[38;5;241;43m4\u001b[39;49m\u001b[43m]\u001b[49m\u001b[38;5;241;43m.\u001b[39;49m\u001b[43mindex\u001b[49m\u001b[43m(\u001b[49m\u001b[38;5;241;43m7\u001b[39;49m\u001b[43m)\u001b[49m\n",
      "\u001b[0;31mValueError\u001b[0m: 7 is not in list"
     ]
    }
   ],
   "source": [
    "[1,2,3,4].index(7)"
   ]
  },
  {
   "cell_type": "code",
   "execution_count": 6,
   "metadata": {},
   "outputs": [],
   "source": [
    "# TODO: 4) Construa o vetor b \n",
    "# O que é o vetor b???"
   ]
  },
  {
   "cell_type": "code",
   "execution_count": 7,
   "metadata": {},
   "outputs": [],
   "source": [
    "# TODO: 5) Compare o tempo de solução do sistema (L + P)x = Px para os métodos:\n",
    "#   - Decomposição LU\n",
    "#   - Cholesky\n",
    "#   - Jacobi e Gaus-Seidel\n",
    "#   - Gradientes Conjugados "
   ]
  }
 ],
 "metadata": {
  "interpreter": {
   "hash": "81794d4967e6c3204c66dcd87b604927b115b27c00565d3d43f05ba2f3a2cb0d"
  },
  "kernelspec": {
   "display_name": "Python 3 (ipykernel)",
   "language": "python",
   "name": "python3"
  },
  "language_info": {
   "codemirror_mode": {
    "name": "ipython",
    "version": 3
   },
   "file_extension": ".py",
   "mimetype": "text/x-python",
   "name": "python",
   "nbconvert_exporter": "python",
   "pygments_lexer": "ipython3",
   "version": "3.10.4"
  }
 },
 "nbformat": 4,
 "nbformat_minor": 4
}
