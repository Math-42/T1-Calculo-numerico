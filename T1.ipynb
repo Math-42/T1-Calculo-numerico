{
 "cells": [
  {
   "cell_type": "markdown",
   "metadata": {
    "tags": []
   },
   "source": [
    "## <font color='blue'>SME0104 - Cálculo Numérico</font>\n",
    "\n",
    "### Primeiro Trabalho em Grupo \n",
    "#### Comparação de Métodos na Solução do Laplaciano em Grafos para propagação de informação\n",
    "\n",
    "**Luis Gustavo Nonato**\n",
    "\n",
    "------"
   ]
  },
  {
   "cell_type": "markdown",
   "metadata": {},
   "source": [
    "Considere os arquivos `manh.el` e `manh.xy` que fornecem as arestas e as coordenadas dos vértices do grafo de ruas da ilha de Manhattan, NY (arquivos disponíveis para download no Google Drive).\n",
    "\n",
    "O grafo de ruas possui diversas componentes conexas, considerando somente a maior componente conexa, você deve realizar as seguintes tarefas:\n",
    "1. Selecione alguns vértices do grafo $v_{i_1},v_{i_2},\\ldots,v_{i_k},\\, k<<n$ ($n$ é o número de vértices na maior componente do grafo e $k$ é um número bem menor que $n$, $k=10$ por exemplo) e atribua valores distindos $c_{i_1},c_{i_2},\\ldots,c_{i_k}$ a cada um dos vértices selecionados (por exemplo valores no intervalo (0,10]);\n",
    "\n",
    "---\n",
    "\n",
    "\n",
    "2. Construa a matriz Laplaciana $L$ do grafo de ruas;\n",
    "3. Construa a matriz de penalidades $P$, sendo $P$ é uma matriz diagonal onde a entrada $P_{jj}=\\alpha$ se $j$ corresponde ao índice de algum dos vértices escolhidos no item 1 acima ($\\alpha=1.0e7$ por exemplo), sendo $P_{ii}=0$ caso contrário.\n",
    "4. Construa um vetor $b$ da seguinte forma:\n",
    "$$\n",
    "b_{j} = \\left\\{\\begin{matrix} c_{i_s} & \\:{ se } \\: j = i_s \\\\ 0 & \\:{ caso \\: contrário}\\end{matrix}\\right.\n",
    "$$\n",
    "5. Compare o tempo de solução do sistema\n",
    "$$\n",
    "(L+P)x = b\n",
    "$$\n",
    "para os métodos:\n",
    "    - Decomposição LU\n",
    "    - Cholesky\n",
    "    - Jacobi e Gaus-Seidel\n",
    "    - Gradientes Conjugados\n",
    "    \n",
    "6. Refaça as tarefas com representação por matriz esparsa e matrizes cheias, comparando os resultados."
   ]
  },
  {
   "cell_type": "markdown",
   "metadata": {},
   "source": [
    "Alunos: \n",
    "- Kauê Hunnicutt Bazilli - 11212226\n",
    "- Matheus Vieira Gonçalves - 11200397\n",
    "- Pedro Henrique dias Junqueira de Souza - 11294312"
   ]
  },
  {
   "cell_type": "code",
   "execution_count": 14,
   "metadata": {},
   "outputs": [
    {
     "name": "stdout",
     "output_type": "stream",
     "text": [
      "Requirement already satisfied: numpy in /home/math42/.local/lib/python3.8/site-packages (1.22.4)\n",
      "Note: you may need to restart the kernel to use updated packages.\n",
      "Requirement already satisfied: scipy in /home/math42/.local/lib/python3.8/site-packages (1.8.0)\n",
      "Requirement already satisfied: numpy<1.25.0,>=1.17.3 in /home/math42/.local/lib/python3.8/site-packages (from scipy) (1.22.4)\n",
      "Note: you may need to restart the kernel to use updated packages.\n",
      "Requirement already satisfied: networkx in /home/math42/.local/lib/python3.8/site-packages (2.8.2)\n",
      "Note: you may need to restart the kernel to use updated packages.\n",
      "Requirement already satisfied: matplotlib in /home/math42/.local/lib/python3.8/site-packages (3.5.1)\n",
      "Requirement already satisfied: python-dateutil>=2.7 in /home/math42/.local/lib/python3.8/site-packages (from matplotlib) (2.8.2)\n",
      "Requirement already satisfied: pillow>=6.2.0 in /usr/lib/python3/dist-packages (from matplotlib) (7.0.0)\n",
      "Requirement already satisfied: kiwisolver>=1.0.1 in /home/math42/.local/lib/python3.8/site-packages (from matplotlib) (1.4.2)\n",
      "Requirement already satisfied: fonttools>=4.22.0 in /home/math42/.local/lib/python3.8/site-packages (from matplotlib) (4.33.2)\n",
      "Requirement already satisfied: cycler>=0.10 in /home/math42/.local/lib/python3.8/site-packages (from matplotlib) (0.11.0)\n",
      "Requirement already satisfied: numpy>=1.17 in /home/math42/.local/lib/python3.8/site-packages (from matplotlib) (1.22.4)\n",
      "Requirement already satisfied: pyparsing>=2.2.1 in /usr/local/lib/python3.8/dist-packages (from matplotlib) (3.0.9)\n",
      "Requirement already satisfied: packaging>=20.0 in /usr/local/lib/python3.8/dist-packages (from matplotlib) (21.3)\n",
      "Requirement already satisfied: six>=1.5 in /usr/lib/python3/dist-packages (from python-dateutil>=2.7->matplotlib) (1.14.0)\n",
      "Note: you may need to restart the kernel to use updated packages.\n"
     ]
    }
   ],
   "source": [
    "import sys\n",
    "import time\n",
    "%pip install --prefix {sys.prefix} numpy\n",
    "%pip install --prefix {sys.prefix} scipy\n",
    "%pip install --prefix {sys.prefix} networkx\n",
    "%pip install --prefix {sys.prefix} matplotlib\n",
    "\n",
    "import numpy as np\n",
    "import scipy as sci\n",
    "from scipy.sparse import linalg\n",
    "import networkx as nx\n",
    "import matplotlib.pyplot as plt\n",
    "from matplotlib import cm"
   ]
  },
  {
   "cell_type": "code",
   "execution_count": 15,
   "metadata": {},
   "outputs": [],
   "source": [
    "# Construção do grafo em memória com base nos arquivos\n",
    "G = nx.Graph()\n",
    "\n",
    "#Nós\n",
    "with open(\"./manh.xy\",\"r\") as file:\n",
    "    lines = file.readlines()\n",
    "    for i, line in enumerate(lines):\n",
    "        [x, y] = map(float, line.split(\"\\t\")) #Lê como floats\n",
    "        G.add_node(i, data=(x, y))\n",
    "\n",
    "#Arestas\n",
    "with open(\"./manh.el\",\"r\") as file:\n",
    "    lines = file.readlines()\n",
    "    for line in lines:\n",
    "        [x, y] = map(int, line.split(\"\\t\")) #Lê como ints\n",
    "        G.add_edge(x,y)\n",
    "        \n",
    "LCC_generator = max(nx.connected_components(G), key=len)\n",
    "G = G.subgraph(LCC_generator).copy()\n",
    "\n",
    "# Desse ponto em diante, G é a maior componente conexa"
   ]
  },
  {
   "cell_type": "code",
   "execution_count": 16,
   "metadata": {},
   "outputs": [
    {
     "name": "stdout",
     "output_type": "stream",
     "text": [
      "[8226 1129 5843 2367 5188 3668 8565 4302  109 1424]\n"
     ]
    }
   ],
   "source": [
    "# 1) Selecione alguns vértices do grafo e atribua valores distintos a cada um dos vértices selecionados\n",
    "\n",
    "# Uma lista dos índices e outra lista com os seus respectivos valores\n",
    "c_indexes = np.random.randint(0, len(G), 10)\n",
    "c_values = np.random.uniform(0, 10, len(c_indexes))\n",
    "print(c_indexes)"
   ]
  },
  {
   "cell_type": "code",
   "execution_count": 17,
   "metadata": {},
   "outputs": [
    {
     "data": {
      "text/plain": [
       "(8708, 8708)"
      ]
     },
     "execution_count": 17,
     "metadata": {},
     "output_type": "execute_result"
    }
   ],
   "source": [
    "# 2) Construa a matriz Laplaciana L do grafo de ruas\n",
    "\n",
    "# Obtendo a matriz laplaciana\n",
    "L = np.array(nx.laplacian_matrix(G).todense())\n",
    "L.shape"
   ]
  },
  {
   "cell_type": "code",
   "execution_count": 18,
   "metadata": {},
   "outputs": [],
   "source": [
    "# 3) Construa a matriz de penalidades P\n",
    "\n",
    "P_diag =  [1e7 if i in c_indexes else 0 for i in range(len(G))]\n",
    "P = np.diag(P_diag)"
   ]
  },
  {
   "cell_type": "code",
   "execution_count": 19,
   "metadata": {},
   "outputs": [],
   "source": [
    "# 4) Construa o vetor b \n",
    "# Px = b\n",
    "# b é um vetor com ci nos índices i escolhidos na 1) e 0 em todo o resto.\n",
    "b = np.zeros(len(G))\n",
    "for i,ci in enumerate(c_indexes):\n",
    "    b[ci] = c_values[i]"
   ]
  },
  {
   "cell_type": "code",
   "execution_count": 42,
   "metadata": {},
   "outputs": [
    {
     "name": "stdout",
     "output_type": "stream",
     "text": [
      "(8708, 8708)\n",
      "(8708, 8708)\n",
      "(8708,)\n"
     ]
    }
   ],
   "source": [
    "# TODO: 5) Compare o tempo de solução do sistema (L + P)x = Px = b para os métodos:\n",
    "#   - Decomposição LU\n",
    "#   - Cholesky\n",
    "#   - Jacobi e Gaus-Seidel\n",
    "#   - Gradientes Conjugados\n",
    "# NOTE: Pode usar métodos embutidos do numpy e etc...\n",
    "#\n",
    "# Lx = 0\n",
    "# Px = b\n",
    "#\n",
    "# Nem P nem L são invertíveis, mas (L + P) é, então resolvemos a soma dos sistemas:\n",
    "#\n",
    "# (L + P)x = Px = b\n",
    "\n",
    "L_plus_P_dense = np.add(L, P)\n",
    "L_plus_P_csc_sparse =sci.sparse.csc_matrix(L_plus_P_dense)\n",
    "\n",
    "b_dense = b\n",
    "\n",
    "print(L_plus_P_csc_sparse.shape)\n",
    "\n",
    "print(L_plus_P_dense.shape)\n",
    "\n",
    "print(b_dense.shape)\n"
   ]
  },
  {
   "cell_type": "code",
   "execution_count": 40,
   "metadata": {},
   "outputs": [],
   "source": [
    "# Decomposição LU\n",
    "\n",
    "def dense_lu_solver(A,b):\n",
    "\tlu, piv = sci.linalg.lu_factor(A)\n",
    "\tx = sci.linalg.lu_solve((lu,piv),b)\n",
    "\treturn x\n",
    "\n",
    "def sparse_lu_solver(A,b):\n",
    "\tlu = linalg.splu(A)\n",
    "\tx = lu.solve(b)\n",
    "\treturn x\n"
   ]
  },
  {
   "cell_type": "code",
   "execution_count": null,
   "metadata": {},
   "outputs": [],
   "source": [
    "# Decomposição de cholesky\n",
    "\n",
    "def dense_cholesky_solver(A,b):\n",
    "\tc, low = sci.linalg.cho_factor(A)\n",
    "\tx = sci.linalg.cho_solve((c,low),b)\n",
    "\treturn x\n",
    "\n",
    "def sparse_cholesky_solver(A,b):\n",
    "\tc, low = sci.linalg.cho_factor(A)\n",
    "\tx = sci.linalg.cho_solve((c,low),b)\n",
    "\treturn False\n"
   ]
  },
  {
   "cell_type": "code",
   "execution_count": null,
   "metadata": {},
   "outputs": [],
   "source": [
    "# gradientes conjugados\n",
    "\n",
    "def sparse_cg_solver(A, b):\n",
    "    return linalg.cg(A, b, tol=1e-12)\n",
    "\n",
    "\n",
    "def dense_cg_solver(A, b):\n",
    "    return linalg.cg(A, b, tol=1e-12)\n",
    "\n"
   ]
  },
  {
   "cell_type": "code",
   "execution_count": null,
   "metadata": {},
   "outputs": [],
   "source": [
    "# Gauss-jacobi\n",
    "\n",
    "def dense_jacobi_solver(A, b, err, err_relative):\n",
    "    count = 0\n",
    "    r, c = A.shape\n",
    "    x = np.zeros(r)\n",
    "\n",
    "    D = np.diag(A)\n",
    "    R = A - np.diagflat(D)\n",
    "    curr_err = err + 1\n",
    "    curr_err_relative = err_relative + 1\n",
    "\n",
    "    while curr_err > err or curr_err_relative > err_relative:\n",
    "        last_x = x.copy()\n",
    "        x = (b - np.dot(R, x)) / D\n",
    "\n",
    "        max_distance = -1\n",
    "        max_module = -1\n",
    "\n",
    "        for i in range(c):\n",
    "            curr_distance = abs(last_x[i] - x[i])\n",
    "            max_distance = curr_distance if curr_distance > max_distance else max_distance\n",
    "            max_module = abs(x[i]) if abs(x[i]) > max_module else max_module\n",
    "\n",
    "        curr_err = max_distance\n",
    "        curr_err_relative = max_distance/max_module\n",
    "\n",
    "    return x\n",
    "\n",
    "\n"
   ]
  },
  {
   "cell_type": "code",
   "execution_count": null,
   "metadata": {},
   "outputs": [],
   "source": [
    "# Gauss-Seidel\n",
    "def dense_gauss_seidel_solver(A, b, err, err_relative):\n",
    "    r, c = A.shape\n",
    "    x = np.zeros(r)\n",
    "    count = 0\n",
    "    curr_err = err + 1\n",
    "    curr_err_relative = err_relative + 1\n",
    "\n",
    "    while curr_err > err or curr_err_relative > err_relative:\n",
    "\n",
    "        last_x = x.copy()\n",
    "\n",
    "        for i in range(r):\n",
    "            x[i] = (b[i] - np.dot(A[i, :i], x[:i]) -\n",
    "                    np.dot(A[i, (i+1):], last_x[(i+1):])) / A[i, i]\n",
    "\n",
    "        max_distance = -1\n",
    "        max_module = -1\n",
    "\n",
    "        for i in range(c):\n",
    "            curr_distance = abs(last_x[i] - x[i])\n",
    "            max_distance = curr_distance if curr_distance > max_distance else max_distance\n",
    "            max_module = abs(x[i]) if abs(x[i]) > max_module else max_module\n",
    "\n",
    "        curr_err = max_distance\n",
    "        curr_err_relative = max_distance/max_module\n",
    "\n",
    "    return x\n",
    "\n"
   ]
  },
  {
   "cell_type": "code",
   "execution_count": null,
   "metadata": {},
   "outputs": [],
   "source": [
    "def execute_method(method, *args):\n",
    "\tstart = time.process_time()\n",
    "\treturn method(*args), time.process_time() - start"
   ]
  },
  {
   "cell_type": "code",
   "execution_count": null,
   "metadata": {},
   "outputs": [],
   "source": [
    "std_dense_solution, std_dense_solution_time = execute_method(\n",
    "    np.linalg.solve, L_plus_P_dense, b_dense)\n",
    "\n",
    "print(std_dense_solution)\n",
    "print(f\"tempo do método padrão np.linalg.solve: {std_dense_solution_time}\")"
   ]
  },
  {
   "cell_type": "code",
   "execution_count": null,
   "metadata": {},
   "outputs": [],
   "source": [
    "std_sparse_solution, std_sparse_solution_time = execute_method(\n",
    "    linalg.spsolve, L_plus_P_csc_sparse, b_dense)\n",
    "\n",
    "print(std_sparse_solution)\n",
    "print(\n",
    "    f\"tempo do método padrão scipy.sparse.linalg.solve: {std_sparse_solution_time}\")"
   ]
  },
  {
   "cell_type": "code",
   "execution_count": null,
   "metadata": {},
   "outputs": [],
   "source": [
    "dense_lu_solution, dense_lu_solution_time = execute_method(\n",
    "    dense_lu_solver, L_plus_P_dense, b_dense)\n",
    "\n",
    "print(dense_lu_solution)\n",
    "print(\n",
    "    f\"tempo do método de decomposição LU em uma matriz densa: {dense_lu_solution_time}\")"
   ]
  },
  {
   "cell_type": "code",
   "execution_count": null,
   "metadata": {},
   "outputs": [],
   "source": [
    "\n",
    "sparse_lu_solution, sparse_lu_solution_time = execute_method(\n",
    "    sparse_lu_solver, L_plus_P_csc_sparse, b_dense)\n",
    "\n",
    "print(sparse_lu_solution)\n",
    "print(\n",
    "    f\"tempo do método de decomposição LU em uma matriz esparsa: {sparse_lu_solution_time}\")"
   ]
  },
  {
   "cell_type": "code",
   "execution_count": null,
   "metadata": {},
   "outputs": [],
   "source": [
    "dense_cholesky_solution, dense_cholesky_solution_time = execute_method(\n",
    "    dense_cholesky_solver, L_plus_P_dense, b_dense)\n",
    "\n",
    "print(dense_cholesky_solution)\n",
    "print(\n",
    "    f\"tempo do método de decomposição cholesky em uma matriz densa: {dense_cholesky_solution_time}\")"
   ]
  },
  {
   "cell_type": "code",
   "execution_count": null,
   "metadata": {},
   "outputs": [],
   "source": [
    "\n",
    "dense_cg_solution, dense_cg_solution_time = execute_method(\n",
    "    dense_cg_solver, L_plus_P_dense, b_dense)\n",
    "\n",
    "print(dense_cg_solution)\n",
    "print(\n",
    "    f\"tempo do método de gradiente conjugados em uma matriz densa: {dense_cg_solution_time}\")"
   ]
  },
  {
   "cell_type": "code",
   "execution_count": null,
   "metadata": {},
   "outputs": [],
   "source": [
    "sparse_cg_solution, sparse_cg_solution_time = execute_method(\n",
    "    sparse_cg_solver, L_plus_P_csc_sparse, b_dense)\n",
    "\n",
    "print(sparse_cg_solution)\n",
    "print(\n",
    "    f\"tempo do método de gradiente conjugados em uma matriz esparsa: {sparse_cg_solution_time}\")"
   ]
  },
  {
   "cell_type": "code",
   "execution_count": null,
   "metadata": {},
   "outputs": [],
   "source": [
    "dense_jacobi_solution, dense_jacobi_solution_time = execute_method(\n",
    "    dense_jacobi_solver, L_plus_P_dense, b_dense, 1e-12, 1e-12)\n",
    "\n",
    "print(dense_jacobi_solution)\n",
    "print(\n",
    "    f\"tempo do método de Jacobi em uma matriz densa: {dense_jacobi_solution_time}\")"
   ]
  },
  {
   "cell_type": "code",
   "execution_count": null,
   "metadata": {},
   "outputs": [],
   "source": [
    "dense_gauss_seidel_solution, dense_gauss_seidel_solution_time = dense_gauss_seidel_solver(\n",
    "    L_plus_P_dense, b_dense, 1e-12, 1e-12)\n",
    "\n",
    "print(dense_gauss_seidel_solution)\n",
    "print(\n",
    "    f\"tempo do método de Jacobi em uma matriz densa: {dense_gauss_seidel_solution_time}\")"
   ]
  }
 ],
 "metadata": {
  "interpreter": {
   "hash": "916dbcbb3f70747c44a77c7bcd40155683ae19c65e1c03b4aa3499c5328201f1"
  },
  "kernelspec": {
   "display_name": "Python 3 (ipykernel)",
   "language": "python",
   "name": "python3"
  },
  "language_info": {
   "codemirror_mode": {
    "name": "ipython",
    "version": 3
   },
   "file_extension": ".py",
   "mimetype": "text/x-python",
   "name": "python",
   "nbconvert_exporter": "python",
   "pygments_lexer": "ipython3",
   "version": "3.8.10"
  }
 },
 "nbformat": 4,
 "nbformat_minor": 4
}
