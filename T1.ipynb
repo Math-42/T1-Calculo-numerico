{
 "cells": [
  {
   "cell_type": "markdown",
   "metadata": {
    "tags": []
   },
   "source": [
    "## <font color='blue'>SME0104 - Cálculo Numérico</font>\n",
    "\n",
    "### Primeiro Trabalho em Grupo \n",
    "#### Comparação de Métodos na Solução do Laplaciano em Grafos para propagação de informação\n",
    "\n",
    "**Luis Gustavo Nonato**\n",
    "\n",
    "------"
   ]
  },
  {
   "cell_type": "markdown",
   "metadata": {},
   "source": [
    "Considere os arquivos `manh.el` e `manh.xy` que fornecem as arestas e as coordenadas dos vértices do grafo de ruas da ilha de Manhattan, NY (arquivos disponíveis para download no Google Drive).\n",
    "\n",
    "O grafo de ruas possui diversas componentes conexas, considerando somente a maior componente conexa, você deve realizar as seguintes tarefas:\n",
    "1. Selecione alguns vértices do grafo $v_{i_1},v_{i_2},\\ldots,v_{i_k},\\, k<<n$ ($n$ é o número de vértices na maior componente do grafo e $k$ é um número bem menor que $n$, $k=10$ por exemplo) e atribua valores distindos $c_{i_1},c_{i_2},\\ldots,c_{i_k}$ a cada um dos vértices selecionados (por exemplo valores no intervalo (0,10]);\n",
    "\n",
    "---\n",
    "\n",
    "\n",
    "2. Construa a matriz Laplaciana $L$ do grafo de ruas;\n",
    "3. Construa a matriz de penalidades $P$, sendo $P$ é uma matriz diagonal onde a entrada $P_{jj}=\\alpha$ se $j$ corresponde ao índice de algum dos vértices escolhidos no item 1 acima ($\\alpha=1.0e7$ por exemplo), sendo $P_{ii}=0$ caso contrário.\n",
    "4. Construa um vetor $b$ da seguinte forma:\n",
    "$$\n",
    "b_{j} = \\left\\{\\begin{matrix} c_{i_s} & \\:{ se } \\: j = i_s \\\\ 0 & \\:{ caso \\: contrário}\\end{matrix}\\right.\n",
    "$$\n",
    "5. Compare o tempo de solução do sistema\n",
    "$$\n",
    "(L+P)x = Pb\n",
    "$$\n",
    "para os métodos:\n",
    "    - Decomposição LU\n",
    "    - Cholesky\n",
    "    - Jacobi e Gaus-Seidel\n",
    "    - Gradientes Conjugados\n",
    "    \n",
    "6. Refaça as tarefas com representação por matriz esparsa e matrizes cheias, comparando os resultados."
   ]
  },
  {
   "cell_type": "markdown",
   "metadata": {},
   "source": [
    "Alunos: \n",
    "- Kauê Hunnicutt Bazilli - 11212226\n",
    "- Matheus Vieira Gonçalves - 11200397\n",
    "- Pedro Henrique dias Junqueira de Souza - 11294312"
   ]
  },
  {
   "cell_type": "markdown",
   "metadata": {},
   "source": []
  },
  {
   "cell_type": "code",
   "execution_count": 103,
   "metadata": {},
   "outputs": [
    {
     "name": "stdout",
     "output_type": "stream",
     "text": [
      "Requirement already satisfied: numpy in /home/math42/.local/lib/python3.8/site-packages (1.22.4)\n",
      "Note: you may need to restart the kernel to use updated packages.\n",
      "Requirement already satisfied: scipy in /home/math42/.local/lib/python3.8/site-packages (1.8.0)\n",
      "Requirement already satisfied: numpy<1.25.0,>=1.17.3 in /home/math42/.local/lib/python3.8/site-packages (from scipy) (1.22.4)\n",
      "Note: you may need to restart the kernel to use updated packages.\n",
      "Requirement already satisfied: networkx in /home/math42/.local/lib/python3.8/site-packages (2.8.2)\n",
      "Note: you may need to restart the kernel to use updated packages.\n"
     ]
    }
   ],
   "source": [
    "import sys\n",
    "%pip install --prefix {sys.prefix} numpy\n",
    "%pip install --prefix {sys.prefix} scipy\n",
    "%pip install --prefix {sys.prefix} networkx\n",
    "\n",
    "import numpy as np\n",
    "import scipy as sci\n",
    "from scipy.sparse import linalg\n",
    "import networkx as nx"
   ]
  },
  {
   "cell_type": "code",
   "execution_count": 104,
   "metadata": {},
   "outputs": [
    {
     "name": "stdout",
     "output_type": "stream",
     "text": [
      "{3598, 3599, 532, 24, 1048, 540, 544, 4646, 1576, 4651, 5163, 1581, 3634, 3124, 5689, 63, 575, 3137, 70, 8264, 584, 6219, 6743, 4187, 2660, 6770, 116, 1656, 2170, 7806, 8833, 131, 4743, 2701, 8334, 145, 6290, 3221, 2710, 160, 1702, 4777, 691, 7862, 700, 6845, 189, 1727, 3270, 4296, 6858, 4300, 8397, 1750, 3291, 737, 1252, 3812, 5351, 8425, 3311, 753, 1781, 4854, 5881, 8451, 266, 6923, 6411, 6412, 4366, 6931, 789, 3869, 5920, 1827, 1315, 4397, 7983, 1338, 8509, 4927, 4930, 8515, 1351, 5448, 6987, 8530, 8020, 856, 4441, 8552, 1384, 3436, 4461, 3954, 5493, 3446, 4982, 382, 7552, 6021, 7565, 3984, 6047, 2465, 2977, 1444, 7084, 2487, 7097, 7612, 8644, 3015, 1991, 8139, 2007, 3561, 6123, 1006, 1010, 2550, 6137}\n"
     ]
    }
   ],
   "source": [
    "# Construção do grafo em memória com base nos arquivos\n",
    "G = nx.Graph()\n",
    "\n",
    "#Nós\n",
    "with open(\"./manh.xy\",\"r\") as file:\n",
    "    lines = file.readlines()\n",
    "    for i, line in enumerate(lines):\n",
    "        [x, y] = map(float, line.split(\"\\t\")) #Lê como floats\n",
    "        G.add_node(i, data=(x, y))\n",
    "\n",
    "#Arestas\n",
    "with open(\"./manh.el\",\"r\") as file:\n",
    "    lines = file.readlines()\n",
    "    for line in lines:\n",
    "        [x, y] = map(int, line.split(\"\\t\")) #Lê como ints\n",
    "        G.add_edge(x,y)\n",
    "        \n",
    "# Obtendo maior componente conexa\n",
    "Graphs = nx.connected_components(G)\n",
    "cont = 0\n",
    "for i in Graphs:\n",
    "    cont += 1\n",
    "    if (cont == 2):\n",
    "        G = G.subgraph(i).copy()\n",
    "        print(i)\n",
    "        break\n",
    "\n",
    "#LCC_generator = min(nx.connected_components(G), key=len)\n",
    "#G = G.subgraph(LCC_generator).copy()\n",
    "\n",
    "# Desse ponto em diante, G é a maior componente conexa"
   ]
  },
  {
   "cell_type": "code",
   "execution_count": 105,
   "metadata": {},
   "outputs": [],
   "source": [
    "# 1) Selecione alguns vértices do grafo e atribua valores distintos a cada um dos vértices selecionados\n",
    "\n",
    "# Uma lista dos índices e outra lista com os seus respectivos valores\n",
    "c_indexes = np.random.randint(0, len(G), 100)\n",
    "c_values = np.random.uniform(0, 10, len(c_indexes))"
   ]
  },
  {
   "cell_type": "code",
   "execution_count": 106,
   "metadata": {},
   "outputs": [
    {
     "data": {
      "text/plain": [
       "(123, 123)"
      ]
     },
     "execution_count": 106,
     "metadata": {},
     "output_type": "execute_result"
    }
   ],
   "source": [
    "# 2) Construa a matriz Laplaciana L do grafo de ruas\n",
    "\n",
    "# Obtendo a matriz laplaciana\n",
    "L = np.array(nx.laplacian_matrix(G).todense())\n",
    "L.shape"
   ]
  },
  {
   "cell_type": "code",
   "execution_count": 107,
   "metadata": {},
   "outputs": [],
   "source": [
    "# 3) Construa a matriz de penalidades P\n",
    "\n",
    "P_diag =  [1e7 if i in c_indexes else 0 for i in range(len(G))]\n",
    "P = np.diag(P_diag)"
   ]
  },
  {
   "cell_type": "code",
   "execution_count": 108,
   "metadata": {},
   "outputs": [],
   "source": [
    "# 4) Construa o vetor b \n",
    "# Px = b\n",
    "# b é um vetor com ci nos índices i escolhidos na 1) e 0 em todo o resto.\n",
    "b = np.zeros(len(G))\n",
    "for i,ci in enumerate(c_indexes):\n",
    "    b[ci] = c_values[i]"
   ]
  },
  {
   "cell_type": "code",
   "execution_count": 109,
   "metadata": {},
   "outputs": [],
   "source": [
    "# TODO: 5) Compare o tempo de solução do sistema (L + P)x = Px = b para os métodos:\n",
    "#   - Decomposição LU\n",
    "#   - Cholesky\n",
    "#   - Jacobi e Gaus-Seidel\n",
    "#   - Gradientes Conjugados\n",
    "# NOTE: Pode usar métodos embutidos do numpy e etc...\n",
    "#\n",
    "# Lx = 0\n",
    "# Px = b\n",
    "#\n",
    "# Nem P nem L são invertíveis, mas (L + P) é, então resolvemos a soma dos sistemas:\n",
    "#\n",
    "# (L + P)x = Px = b\n",
    "\n",
    "P_csc_sparse = sci.sparse.csc_matrix(P)\n",
    "L_csc_sparse = sci.sparse.csc_matrix(L)\n",
    "b_csc_sparse = sci.sparse.csc_array(b)\n",
    "\n",
    "L_plus_P_csc_sparse =sci.sparse.csc_matrix(np.add(L, P))\n",
    "L_plus_P_dense = np.add(L, P)\n",
    "\n",
    "Pb_dense = np.dot(P, b)\n",
    "Pb_csc_sparse = sci.sparse.csr_matrix.multiply(P_csc_sparse, b_csc_sparse)\n",
    "\n"
   ]
  },
  {
   "cell_type": "code",
   "execution_count": 110,
   "metadata": {},
   "outputs": [],
   "source": [
    "# Decomposição LU\n",
    "\n",
    "def dense_lu_solver(A,b):\n",
    "\tlu, piv = sci.linalg.lu_factor(A)\n",
    "\tx = sci.linalg.lu_solve((lu,piv),b)\n",
    "\treturn x\n",
    "\n",
    "def sparse_lu_solver(A,b):\n",
    "\tlu = linalg.splu(A)\n",
    "\tx = lu.solve(b)\n",
    "\treturn x\n",
    "\n",
    "#print(dense_lu_solver(L_plus_P_dense, Pb_dense))\n",
    "#print(sparse_lu_solver(L_plus_P_csc_sparse, Pb_dense))"
   ]
  },
  {
   "cell_type": "code",
   "execution_count": 111,
   "metadata": {},
   "outputs": [],
   "source": [
    "\n",
    "# Decomposição de cholesky\n",
    "\n",
    "def dense_cholesky_solver(A,b):\n",
    "\tc, low = sci.linalg.cho_factor(A)\n",
    "\tx = sci.linalg.cho_solve((c,low),b)\n",
    "\treturn x\n",
    "\n",
    "def sparse_cholesky_solver(A,b):\n",
    "\t#TODO\n",
    "\treturn False\n",
    "\n",
    "#print(dense_cholesky_solver(L_plus_P_dense, Pb_dense))\n",
    "#print(sparse_cholesky_solver(L_plus_P_csc_sparse, Pb_dense))"
   ]
  },
  {
   "cell_type": "code",
   "execution_count": 112,
   "metadata": {},
   "outputs": [
    {
     "name": "stdout",
     "output_type": "stream",
     "text": [
      "(array([0.        , 0.24656494, 8.94267128, 0.        , 5.17101108,\n",
      "       0.        , 2.80271319, 7.21253628, 9.57660342, 0.86099397,\n",
      "       0.        , 8.35208583, 0.        , 0.        , 0.        ,\n",
      "       8.96238416, 4.98463212, 7.68849285, 0.        , 0.        ,\n",
      "       0.        , 0.        , 0.        , 0.        , 5.99234363,\n",
      "       7.60259468, 1.22712403, 0.        , 0.        , 1.64430924,\n",
      "       0.90987732, 0.        , 1.46742076, 4.18582892, 1.73330236,\n",
      "       2.85727545, 0.        , 0.        , 0.        , 5.72559674,\n",
      "       6.22889919, 2.28399431, 0.        , 7.03735993, 0.        ,\n",
      "       0.27349783, 0.        , 3.11840682, 4.1729528 , 0.        ,\n",
      "       0.        , 0.        , 4.38332531, 9.94834094, 0.        ,\n",
      "       2.42241195, 0.        , 2.77825689, 0.        , 0.        ,\n",
      "       3.90672934, 0.        , 0.16308831, 0.        , 8.04943402,\n",
      "       0.        , 2.4075599 , 0.        , 0.        , 1.57455601,\n",
      "       7.54861983, 8.02783517, 0.        , 7.81781283, 0.        ,\n",
      "       1.5656451 , 7.92188759, 2.38829978, 0.80510022, 0.        ,\n",
      "       0.        , 0.        , 9.36275315, 2.37674974, 0.        ,\n",
      "       8.72832372, 6.00134764, 7.6214236 , 3.2469302 , 3.27062083,\n",
      "       5.09524874, 1.7214257 , 0.        , 5.32286143, 0.        ,\n",
      "       8.11963643, 0.        , 4.72946988, 8.99430776, 3.3774949 ,\n",
      "       0.        , 0.        , 0.        , 0.        , 0.        ,\n",
      "       0.        , 3.67279585, 8.98036518, 7.41812736, 0.        ,\n",
      "       5.18666539, 0.        , 4.99608921, 5.27448762, 0.        ,\n",
      "       9.1829549 , 0.        , 0.        , 0.        , 8.67926847,\n",
      "       1.1822823 , 0.        , 7.43167642]), 0)\n"
     ]
    }
   ],
   "source": [
    "# gradientes conjugados\n",
    "\n",
    "def sparse_cg_solver(A,b):\n",
    "\treturn linalg.cg(A,b)\n",
    "\n",
    "def dense_cg_solver(A,b):\n",
    "\treturn linalg.cg(A,b)\n",
    "\n",
    "#print(dense_cg_solver(L_plus_P_dense, Pb_dense))\n",
    "print(sparse_cg_solver(L_plus_P_csc_sparse, Pb_dense))\n"
   ]
  }
 ],
 "metadata": {
  "interpreter": {
   "hash": "916dbcbb3f70747c44a77c7bcd40155683ae19c65e1c03b4aa3499c5328201f1"
  },
  "kernelspec": {
   "display_name": "Python 3.8.10 64-bit",
   "language": "python",
   "name": "python3"
  },
  "language_info": {
   "codemirror_mode": {
    "name": "ipython",
    "version": 3
   },
   "file_extension": ".py",
   "mimetype": "text/x-python",
   "name": "python",
   "nbconvert_exporter": "python",
   "pygments_lexer": "ipython3",
   "version": "3.8.10"
  }
 },
 "nbformat": 4,
 "nbformat_minor": 4
}
