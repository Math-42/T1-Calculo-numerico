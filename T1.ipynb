{
 "cells": [
  {
   "cell_type": "markdown",
   "metadata": {
    "tags": []
   },
   "source": [
    "## <font color='blue'>SME0104 - Cálculo Numérico</font>\n",
    "\n",
    "### Primeiro Trabalho em Grupo \n",
    "#### Comparação de Métodos na Solução do Laplaciano em Grafos para propagação de informação\n",
    "\n",
    "**Luis Gustavo Nonato**\n",
    "\n",
    "------"
   ]
  },
  {
   "cell_type": "markdown",
   "metadata": {},
   "source": [
    "Considere os arquivos `manh.el` e `manh.xy` que fornecem as arestas e as coordenadas dos vértices do grafo de ruas da ilha de Manhattan, NY (arquivos disponíveis para download no Google Drive).\n",
    "\n",
    "O grafo de ruas possui diversas componentes conexas, considerando somente a maior componente conexa, você deve realizar as seguintes tarefas:\n",
    "1. Selecione alguns vértices do grafo $v_{i_1},v_{i_2},\\ldots,v_{i_k},\\, k<<n$ ($n$ é o número de vértices na maior componente do grafo e $k$ é um número bem menor que $n$, $k=10$ por exemplo) e atribua valores distindos $c_{i_1},c_{i_2},\\ldots,c_{i_k}$ a cada um dos vértices selecionados (por exemplo valores no intervalo (0,10]);\n",
    "\n",
    "---\n",
    "\n",
    "\n",
    "2. Construa a matriz Laplaciana $L$ do grafo de ruas;\n",
    "3. Construa a matriz de penalidades $P$, sendo $P$ é uma matriz diagonal onde a entrada $P_{jj}=\\alpha$ se $j$ corresponde ao índice de algum dos vértices escolhidos no item 1 acima ($\\alpha=1.0e7$ por exemplo), sendo $P_{ii}=0$ caso contrário.\n",
    "4. Construa um vetor $b$ da seguinte forma:\n",
    "$$\n",
    "b_{j} = \\left\\{\\begin{matrix} c_{i_s} & \\:{ se } \\: j = i_s \\\\ 0 & \\:{ caso \\: contrário}\\end{matrix}\\right.\n",
    "$$\n",
    "5. Compare o tempo de solução do sistema\n",
    "$$\n",
    "(L+P)x = b\n",
    "$$\n",
    "para os métodos:\n",
    "    - Decomposição LU\n",
    "    - Cholesky\n",
    "    - Jacobi e Gaus-Seidel\n",
    "    - Gradientes Conjugados\n",
    "    \n",
    "6. Refaça as tarefas com representação por matriz esparsa e matrizes cheias, comparando os resultados."
   ]
  },
  {
   "cell_type": "markdown",
   "metadata": {},
   "source": [
    "Alunos: \n",
    "- Kauê Hunnicutt Bazilli - 11212226\n",
    "- Matheus Vieira Gonçalves - 11200397\n",
    "- Pedro Henrique dias Junqueira de Souza - 11294312"
   ]
  },
  {
   "cell_type": "code",
   "execution_count": 88,
   "metadata": {},
   "outputs": [
    {
     "name": "stdout",
     "output_type": "stream",
     "text": [
      "Requirement already satisfied: numpy in /home/math42/.local/lib/python3.8/site-packages (1.22.4)\n",
      "Note: you may need to restart the kernel to use updated packages.\n",
      "Requirement already satisfied: scipy in /home/math42/.local/lib/python3.8/site-packages (1.8.0)\n",
      "Requirement already satisfied: numpy<1.25.0,>=1.17.3 in /home/math42/.local/lib/python3.8/site-packages (from scipy) (1.22.4)\n",
      "Note: you may need to restart the kernel to use updated packages.\n",
      "Requirement already satisfied: networkx in /home/math42/.local/lib/python3.8/site-packages (2.8.2)\n",
      "Note: you may need to restart the kernel to use updated packages.\n",
      "Requirement already satisfied: matplotlib in /home/math42/.local/lib/python3.8/site-packages (3.5.1)\n",
      "Requirement already satisfied: cycler>=0.10 in /home/math42/.local/lib/python3.8/site-packages (from matplotlib) (0.11.0)\n",
      "Requirement already satisfied: kiwisolver>=1.0.1 in /home/math42/.local/lib/python3.8/site-packages (from matplotlib) (1.4.2)\n",
      "Requirement already satisfied: packaging>=20.0 in /usr/local/lib/python3.8/dist-packages (from matplotlib) (21.3)\n",
      "Requirement already satisfied: pillow>=6.2.0 in /usr/lib/python3/dist-packages (from matplotlib) (7.0.0)\n",
      "Requirement already satisfied: pyparsing>=2.2.1 in /usr/local/lib/python3.8/dist-packages (from matplotlib) (3.0.9)\n",
      "Requirement already satisfied: fonttools>=4.22.0 in /home/math42/.local/lib/python3.8/site-packages (from matplotlib) (4.33.2)\n",
      "Requirement already satisfied: numpy>=1.17 in /home/math42/.local/lib/python3.8/site-packages (from matplotlib) (1.22.4)\n",
      "Requirement already satisfied: python-dateutil>=2.7 in /home/math42/.local/lib/python3.8/site-packages (from matplotlib) (2.8.2)\n",
      "Requirement already satisfied: six>=1.5 in /usr/lib/python3/dist-packages (from python-dateutil>=2.7->matplotlib) (1.14.0)\n",
      "Note: you may need to restart the kernel to use updated packages.\n"
     ]
    }
   ],
   "source": [
    "import sys\n",
    "import time\n",
    "%pip install --prefix {sys.prefix} numpy\n",
    "%pip install --prefix {sys.prefix} scipy\n",
    "%pip install --prefix {sys.prefix} networkx\n",
    "%pip install --prefix {sys.prefix} matplotlib\n",
    "\n",
    "import numpy as np\n",
    "import scipy as sci\n",
    "from scipy.sparse import linalg\n",
    "import networkx as nx\n",
    "import matplotlib.pyplot as plt\n",
    "from matplotlib import cm"
   ]
  },
  {
   "cell_type": "code",
   "execution_count": 89,
   "metadata": {},
   "outputs": [],
   "source": [
    "# Construção do grafo em memória com base nos arquivos\n",
    "G = nx.Graph()\n",
    "\n",
    "#Nós\n",
    "with open(\"./manh.xy\",\"r\") as file:\n",
    "    lines = file.readlines()\n",
    "    for i, line in enumerate(lines):\n",
    "        [x, y] = map(float, line.split(\"\\t\")) #Lê como floats\n",
    "        G.add_node(i, data=(x, y))\n",
    "\n",
    "#Arestas\n",
    "with open(\"./manh.el\",\"r\") as file:\n",
    "    lines = file.readlines()\n",
    "    for line in lines:\n",
    "        [x, y] = map(int, line.split(\"\\t\")) #Lê como ints\n",
    "        G.add_edge(x,y)\n",
    "        \n",
    "LCC_generator = max(nx.connected_components(G), key=len)\n",
    "G = G.subgraph(LCC_generator).copy()\n",
    "\n",
    "# Desse ponto em diante, G é a maior componente conexa"
   ]
  },
  {
   "cell_type": "code",
   "execution_count": 90,
   "metadata": {},
   "outputs": [
    {
     "name": "stdout",
     "output_type": "stream",
     "text": [
      "[2180 2841 2771 1660 7346 3443 2527 3674 6805 2901  656 1206 3707  311\n",
      " 2691 3052 5999  774 3949 2493  965 6786 2352    0 6261 3927 5238  686\n",
      " 7550  420 4597  608 4772 7193 7865 6076 6857 8293 7015 2117 7664 3779\n",
      " 3229  902 8104 5082 1267 4453 3714 5109 6900 4120 2577 8210 4536 5040\n",
      " 5520 6031  208 5176 2040 2478 4388 6095 2561 1416  564 5949 6966 5735\n",
      " 7049 6427 5553 4587 5623 2360 4799 5817 6214  751 1609 3553 1547 4796\n",
      " 7486 7112 8456 3281  653 4818 7009 3727 4825   29 6101 5328 5397  771\n",
      " 3431 8690 5036  965 6381 7968 1391  728  921 1166 5319 7375 4019 4919\n",
      "   26 7299 6328 4954 7373 7063 6712 1637 1794 1188 1385 6889 5259 6314\n",
      " 3129 6988 7453 5282 1491 1736 7324 7736 3840 6388 3292 8689 5592 7896\n",
      " 3668 4667 7042 6842 8323 4796 6068 1003 5967 8652 2053 8597  964 3817\n",
      " 2966 2122 5895 1466 8601  364 5645  109 7144 7491 4339 6589 5140 3007\n",
      " 7568  852 4564 8252 5366  223 8260 4367 8249 8533  269 6495  777 4652\n",
      " 3388 5341 6426 1304 3892 7881 3159 2349 1503 2683 7859 4908 7831 5085\n",
      " 2255 3086 3429 7147 6975  698 6542 5804 7126 1504 1389 5514 5077 8103\n",
      " 7404 3223 5958 1554 2918 1030 6015 3983 3371 1715 8628  864 1925 2763\n",
      " 6167 8076 7615 5193 2546 8037 6115 1986 2555  652 8385 2325 6991 4914\n",
      " 5321 6318 7928 6215 5363 5398 8029  502 4696 2933 4488 5662 2989 5038\n",
      " 2487 3666 3476 3377  364 4097 6878 5201 5256 6907 4229  657 3602 2501\n",
      " 7685  918  367 4495  159  142 4743 5206 4864 4294 6102 3689 1384 8366\n",
      " 1261 4864 1090 5247 3567 3552 7715  603 2370 4550 2341 5103 2635 2556\n",
      " 3167 2214 6824 2870 5234 3426 6673 1271 4450 1657 3044 6163 1805 1459\n",
      " 4710  857 2713 6991 4330 7060 3558 2011 2028 4473 3129 5868 5473  228\n",
      " 4937  265 2512 8205 7628  357 8119 7485 4502 8155 6678 7251 3400 2953\n",
      "  163  443 1409 2802 3102 7044 3367 8387 2529 2177 1561 5016 1500 7477\n",
      " 5260  499 3824 4186 4331 2293 3948 7927 6291 3440 4987 4419 7933 8694\n",
      " 3071 1641 4345 6643 1669 2161 1969 4203 3805 1540  240 4838 3241 4350\n",
      " 8229 7332 7220  749 7145 2747 6241 3875 6173 8619 8046 1858 5933 7284\n",
      "  399 4238 2419 6061 4295 1304 1572 8109  908 1164 2878 7536 6046 1938\n",
      " 2839 7332 2838 8331 1549    6 3639  949 6232 1448 3756 4479 6989 2169\n",
      " 3685 2709  442 3173 2564 4954 3888 1395 1421 8285 2325  429 5525 4562\n",
      " 8148  437 3876 4125 2766  812 2213 3289 4617 1092 5517 5834 1005 4285\n",
      " 7114 6520 1910  221 7946 4581  950 7683 2412 4857 5091 2268 8004 6285\n",
      " 4712 4567 2255  420 4813 5183 7677  849 3142 6563 5949 6578 3292 6387\n",
      " 6880  368 2576 7222 7270 3410 2120 2831 6590 6746 7005 6511 1879 4248\n",
      " 6177 8045 8395 7557 7241 6968 7509 6169 1840 8624 8158 2132 3384 4617\n",
      " 5008 3969 5739 5053 3552 5254 2424 1968 1329 8293 7726 2673 3075  618\n",
      " 6152 5541 3040 7361 3219 4311 1741 2881 5729 2704  257  382 3508 2305\n",
      " 2944 7736 5635 7148 4006 8615  106 4684 4243 7987 4847 2915 3143 7011\n",
      " 6330 5151 8671 4237  434 1844  784 6032 4827 8672 6739 6363 7465 2099\n",
      " 7807 1367 5642 2979 3044 5337 3419 4579 3072 7454 1344 7336  858 1565\n",
      " 6612 6885 1189 5518 6330 3525 4237 6175 6803 5284 1676 3746 5984 3700\n",
      " 5685 5392 4247 1083 5913 5548 5264 2242 8390 7466 7108  621   79 2954\n",
      " 3259 6387 5605 7964 5693 4023 5187  694 1325 4569 4198 1859 7689 5477\n",
      " 8577 8213 3565 4824 8129 6682 1316 6276 2674 2398  128 5458 7089 8480\n",
      "  281 3138 1275  511 3294 4836 6009 5944  893 3561 2597 2134 8650 8450\n",
      " 1308 2536 7154 5860 6998 4023 4294  173 8655 5746 3798 5146 5607 1612\n",
      " 3475  360 8187 6201 8685  133 3547 6320 3529 1589 2101 6220 2243 4690\n",
      " 7922 8095 4687 4272 4940 3695 3068 1662 7322 4220 5777 5269 1014 6034\n",
      "   53   32 7476 3984 2467 3538 7187  314 2511 5092 3674 2390 2457 1901\n",
      " 3043  600  397 3906 6714 8005 3963 3155 6608 3979 2993  712 6780 7964\n",
      " 4167 5336 8372 1726 2367 3171 4106 3780 6439 2055 1432 8098  628   22\n",
      " 5809 2690 8494 2131 5432 7055 1621 3963 5029 5115 8663 8346 3210 3824\n",
      "  832 7599  883 3560  400  803 1593  797 7710 3458 5609 5331 7704 3950\n",
      " 4793 7585 7733 8127 6285 6878  737 7673 4218 3199 3657 2506 2197 1034\n",
      " 6738 6974 3588 2889 2897 6246 8096 3573 6847 7940 2111 1139 4882  958\n",
      " 4296 3567 2217 3015 4615 3108 6549 3563 4390 1602 1591 1832 5736 6894\n",
      " 3723  387 3944 1046 7149  409 4431 3644 2029 5841 5510 5243 7321  434\n",
      " 2642 4932 4424 1605    5 1810 4698 1162 8300 2374 7507 6168 1517 1563\n",
      " 5848 4379 6705 7865 3282 8463 4135 1376 7588 8440  106 8594 7941 1344\n",
      " 6755 7311 5358 1339 8506 8649 3266 6349 7150  121 4575 5988 3905 2887\n",
      " 2202 4626 5432 7950 2581 5791 3166 6137 3614 6521 6328 5358 6186 3435\n",
      "  923  796 1066 2740 1454  951 4426 1099 6023  946 1500 1325 8255 6157\n",
      " 8165 3213 7611 5245  555 6494 8208   67 4928 5287 3180 1785 3463  873\n",
      " 4239 3391 6684 8596 1853 8566 3046 6210 5590 3033 2643 4222 7627 1508\n",
      " 6858 2853 7345 4596  710 3439 8431 6717 1236 7430 3503 2716  812  368\n",
      " 3247 1184  759 2221 1954 2913 8453 4483  931  505 1375 1073 2556 3395\n",
      " 3588 1949 1631  113 4007 5983 2187 1046 2340  305 4492 2805 7054 3362\n",
      " 1550 1637 6196 4249 1504 5891 7935 6958 2776  771 1205   82 5282  219\n",
      " 8147 7722 1692   94 4505 6629 5789  599 7878 5577  444 7357 5268 8647\n",
      " 3979 1005 3456 1555 2351 3054 3476 1678 8017 4295 3630 3125 4621 2986\n",
      " 2658 3927 3364 6683 8216 2364]\n"
     ]
    }
   ],
   "source": [
    "# 1) Selecione alguns vértices do grafo e atribua valores distintos a cada um dos vértices selecionados\n",
    "\n",
    "# Uma lista dos índices e outra lista com os seus respectivos valores\n",
    "c_indexes = np.random.randint(0, len(G), 1000)\n",
    "c_values = np.random.uniform(0, 10, len(c_indexes))\n",
    "print(c_indexes)"
   ]
  },
  {
   "cell_type": "code",
   "execution_count": 91,
   "metadata": {},
   "outputs": [
    {
     "data": {
      "text/plain": [
       "(8708, 8708)"
      ]
     },
     "execution_count": 91,
     "metadata": {},
     "output_type": "execute_result"
    }
   ],
   "source": [
    "# 2) Construa a matriz Laplaciana L do grafo de ruas\n",
    "\n",
    "# Obtendo a matriz laplaciana\n",
    "L = np.array(nx.laplacian_matrix(G).todense())\n",
    "L.shape"
   ]
  },
  {
   "cell_type": "code",
   "execution_count": 92,
   "metadata": {},
   "outputs": [],
   "source": [
    "# 3) Construa a matriz de penalidades P\n",
    "\n",
    "P_diag =  [1e7 if i in c_indexes else 0 for i in range(len(G))]\n",
    "P = np.diag(P_diag)"
   ]
  },
  {
   "cell_type": "code",
   "execution_count": 93,
   "metadata": {},
   "outputs": [],
   "source": [
    "# 4) Construa o vetor b \n",
    "# Px = b\n",
    "# b é um vetor com ci nos índices i escolhidos na 1) e 0 em todo o resto.\n",
    "b = np.zeros(len(G))\n",
    "for i,ci in enumerate(c_indexes):\n",
    "    b[ci] = c_values[i]"
   ]
  },
  {
   "cell_type": "code",
   "execution_count": 94,
   "metadata": {},
   "outputs": [
    {
     "name": "stdout",
     "output_type": "stream",
     "text": [
      "(8708, 8708)\n",
      "(8708, 8708)\n",
      "(8708,)\n"
     ]
    }
   ],
   "source": [
    "# TODO: 5) Compare o tempo de solução do sistema (L + P)x = Px = b para os métodos:\n",
    "#   - Decomposição LU\n",
    "#   - Cholesky\n",
    "#   - Jacobi e Gaus-Seidel\n",
    "#   - Gradientes Conjugados\n",
    "# NOTE: Pode usar métodos embutidos do numpy e etc...\n",
    "#\n",
    "# Lx = 0\n",
    "# Px = b\n",
    "#\n",
    "# Nem P nem L são invertíveis, mas (L + P) é, então resolvemos a soma dos sistemas:\n",
    "#\n",
    "# (L + P)x = Px = b\n",
    "\n",
    "L_plus_P_dense = np.add(L, P)\n",
    "L_plus_P_csc_sparse =sci.sparse.csc_matrix(L_plus_P_dense)\n",
    "\n",
    "b_dense = b\n",
    "\n",
    "print(L_plus_P_csc_sparse.shape)\n",
    "\n",
    "print(L_plus_P_dense.shape)\n",
    "\n",
    "print(b_dense.shape)\n"
   ]
  },
  {
   "cell_type": "code",
   "execution_count": 95,
   "metadata": {},
   "outputs": [],
   "source": [
    "# Decomposição LU\n",
    "\n",
    "def dense_lu_solver(A,b):\n",
    "\tlu, piv = sci.linalg.lu_factor(A)\n",
    "\tx = sci.linalg.lu_solve((lu,piv),b)\n",
    "\treturn x\n",
    "\n",
    "def sparse_lu_solver(A,b):\n",
    "\tlu = linalg.splu(A)\n",
    "\tx = lu.solve(b)\n",
    "\treturn x\n"
   ]
  },
  {
   "cell_type": "code",
   "execution_count": 96,
   "metadata": {},
   "outputs": [],
   "source": [
    "# Decomposição de cholesky\n",
    "\n",
    "def dense_cholesky_solver(A,b):\n",
    "\tc, low = sci.linalg.cho_factor(A)\n",
    "\tx = sci.linalg.cho_solve((c,low),b)\n",
    "\treturn x\n",
    "\n",
    "def sparse_cholesky_solver(A,b):\n",
    "\tc, low = sci.linalg.cho_factor(A)\n",
    "\tx = sci.linalg.cho_solve((c,low),b)\n",
    "\treturn False\n"
   ]
  },
  {
   "cell_type": "code",
   "execution_count": 97,
   "metadata": {},
   "outputs": [],
   "source": [
    "# gradientes conjugados\n",
    "\n",
    "def sparse_cg_solver(A, b):\n",
    "    return linalg.cg(A, b, tol=1e-12)\n",
    "\n",
    "\n",
    "def dense_cg_solver(A, b):\n",
    "    return linalg.cg(A, b, tol=1e-12)\n",
    "\n"
   ]
  },
  {
   "cell_type": "code",
   "execution_count": 98,
   "metadata": {},
   "outputs": [],
   "source": [
    "# Gauss-jacobi\n",
    "\n",
    "def dense_jacobi_solver(A, b, err, err_relative):\n",
    "    count = 0\n",
    "    r, c = A.shape\n",
    "    x = np.zeros(r)\n",
    "\n",
    "    D = np.diag(A)\n",
    "    R = A - np.diagflat(D)\n",
    "    curr_err = err + 1\n",
    "    curr_err_relative = err_relative + 1\n",
    "\n",
    "    while curr_err > err or curr_err_relative > err_relative:\n",
    "        last_x = x.copy()\n",
    "        x = (b - np.dot(R, x)) / D\n",
    "\n",
    "        max_distance = -1\n",
    "        max_module = -1\n",
    "\n",
    "        for i in range(c):\n",
    "            curr_distance = abs(last_x[i] - x[i])\n",
    "            max_distance = curr_distance if curr_distance > max_distance else max_distance\n",
    "            max_module = abs(x[i]) if abs(x[i]) > max_module else max_module\n",
    "\n",
    "        curr_err = max_distance\n",
    "        curr_err_relative = max_distance/max_module\n",
    "\n",
    "    return x\n",
    "\n",
    "\n"
   ]
  },
  {
   "cell_type": "code",
   "execution_count": 99,
   "metadata": {},
   "outputs": [],
   "source": [
    "# Gauss-Seidel\n",
    "def dense_gauss_seidel_solver(A, b, err, err_relative):\n",
    "    r, c = A.shape\n",
    "    x = np.zeros(r)\n",
    "    count = 0\n",
    "    curr_err = err + 1\n",
    "    curr_err_relative = err_relative + 1\n",
    "\n",
    "    while curr_err > err or curr_err_relative > err_relative:\n",
    "\n",
    "        last_x = x.copy()\n",
    "\n",
    "        for i in range(r):\n",
    "            x[i] = (b[i] - np.dot(A[i, :i], x[:i]) -\n",
    "                    np.dot(A[i, (i+1):], last_x[(i+1):])) / A[i, i]\n",
    "\n",
    "        max_distance = -1\n",
    "        max_module = -1\n",
    "\n",
    "        for i in range(c):\n",
    "            curr_distance = abs(last_x[i] - x[i])\n",
    "            max_distance = curr_distance if curr_distance > max_distance else max_distance\n",
    "            max_module = abs(x[i]) if abs(x[i]) > max_module else max_module\n",
    "\n",
    "        curr_err = max_distance\n",
    "        curr_err_relative = max_distance/max_module\n",
    "\n",
    "    return x\n",
    "\n"
   ]
  },
  {
   "cell_type": "code",
   "execution_count": 100,
   "metadata": {},
   "outputs": [],
   "source": [
    "def execute_method(method, *args):\n",
    "    start = time.time()\n",
    "    answer = method(*args)\n",
    "    total_time = time.time()-start\n",
    "    return answer, total_time\n"
   ]
  },
  {
   "cell_type": "code",
   "execution_count": 101,
   "metadata": {},
   "outputs": [
    {
     "name": "stdout",
     "output_type": "stream",
     "text": [
      "[6.02573581e-08 1.94350521e-07 4.19514697e-07 ... 3.65342996e-07\n",
      " 5.68214434e-07 5.87184436e-07]\n",
      "tempo do método padrão np.linalg.solve: 4.579286813735962\n"
     ]
    }
   ],
   "source": [
    "std_dense_solution, std_dense_solution_time = execute_method(\n",
    "    np.linalg.solve, L_plus_P_dense, b_dense)\n",
    "\n",
    "print(std_dense_solution)\n",
    "print(f\"tempo do método padrão np.linalg.solve: {std_dense_solution_time}\")"
   ]
  },
  {
   "cell_type": "code",
   "execution_count": 102,
   "metadata": {},
   "outputs": [
    {
     "name": "stdout",
     "output_type": "stream",
     "text": [
      "[6.02573581e-08 1.94350521e-07 4.19514697e-07 ... 3.65342996e-07\n",
      " 5.68214434e-07 5.87184436e-07]\n",
      "tempo do método padrão scipy.sparse.linalg.solve: 0.026685714721679688\n"
     ]
    }
   ],
   "source": [
    "std_sparse_solution, std_sparse_solution_time = execute_method(\n",
    "    linalg.spsolve, L_plus_P_csc_sparse, b_dense)\n",
    "\n",
    "print(std_sparse_solution)\n",
    "print(\n",
    "    f\"tempo do método padrão scipy.sparse.linalg.solve: {std_sparse_solution_time}\")"
   ]
  },
  {
   "cell_type": "code",
   "execution_count": 103,
   "metadata": {},
   "outputs": [
    {
     "name": "stdout",
     "output_type": "stream",
     "text": [
      "[6.02573581e-08 1.94350521e-07 4.19514697e-07 ... 3.65342996e-07\n",
      " 5.68214434e-07 5.87184436e-07]\n",
      "tempo do método de decomposição LU em uma matriz densa: 6.607456684112549\n"
     ]
    }
   ],
   "source": [
    "dense_lu_solution, dense_lu_solution_time = execute_method(\n",
    "    dense_lu_solver, L_plus_P_dense, b_dense)\n",
    "\n",
    "print(dense_lu_solution)\n",
    "print(\n",
    "    f\"tempo do método de decomposição LU em uma matriz densa: {dense_lu_solution_time}\")"
   ]
  },
  {
   "cell_type": "code",
   "execution_count": 104,
   "metadata": {},
   "outputs": [
    {
     "name": "stdout",
     "output_type": "stream",
     "text": [
      "[6.02573581e-08 1.94350521e-07 4.19514697e-07 ... 3.65342996e-07\n",
      " 5.68214434e-07 5.87184436e-07]\n",
      "tempo do método de decomposição LU em uma matriz esparsa: 0.03009176254272461\n"
     ]
    }
   ],
   "source": [
    "\n",
    "sparse_lu_solution, sparse_lu_solution_time = execute_method(\n",
    "    sparse_lu_solver, L_plus_P_csc_sparse, b_dense)\n",
    "\n",
    "print(sparse_lu_solution)\n",
    "print(\n",
    "    f\"tempo do método de decomposição LU em uma matriz esparsa: {sparse_lu_solution_time}\")"
   ]
  },
  {
   "cell_type": "code",
   "execution_count": 105,
   "metadata": {},
   "outputs": [
    {
     "name": "stdout",
     "output_type": "stream",
     "text": [
      "[6.02573581e-08 1.94350521e-07 4.19514697e-07 ... 3.65342996e-07\n",
      " 5.68214434e-07 5.87184436e-07]\n",
      "tempo do método de decomposição cholesky em uma matriz densa: 3.9793145656585693\n"
     ]
    }
   ],
   "source": [
    "dense_cholesky_solution, dense_cholesky_solution_time = execute_method(\n",
    "    dense_cholesky_solver, L_plus_P_dense, b_dense)\n",
    "\n",
    "print(dense_cholesky_solution)\n",
    "print(\n",
    "    f\"tempo do método de decomposição cholesky em uma matriz densa: {dense_cholesky_solution_time}\")"
   ]
  },
  {
   "cell_type": "code",
   "execution_count": 106,
   "metadata": {},
   "outputs": [
    {
     "name": "stdout",
     "output_type": "stream",
     "text": [
      "(array([6.02573581e-08, 1.94350492e-07, 4.19520594e-07, ...,\n",
      "       3.65343128e-07, 5.68211780e-07, 5.87184466e-07]), 0)\n",
      "tempo do método de gradiente conjugados em uma matriz densa: 9.22462272644043\n"
     ]
    }
   ],
   "source": [
    "\n",
    "dense_cg_solution, dense_cg_solution_time = execute_method(\n",
    "    dense_cg_solver, L_plus_P_dense, b_dense)\n",
    "\n",
    "print(dense_cg_solution)\n",
    "print(\n",
    "    f\"tempo do método de gradiente conjugados em uma matriz densa: {dense_cg_solution_time}\")"
   ]
  },
  {
   "cell_type": "code",
   "execution_count": 107,
   "metadata": {},
   "outputs": [
    {
     "name": "stdout",
     "output_type": "stream",
     "text": [
      "(array([6.02573581e-08, 1.94350492e-07, 4.19520594e-07, ...,\n",
      "       3.65343128e-07, 5.68211780e-07, 5.87184466e-07]), 0)\n",
      "tempo do método de gradiente conjugados em uma matriz esparsa: 0.034366607666015625\n"
     ]
    }
   ],
   "source": [
    "sparse_cg_solution, sparse_cg_solution_time = execute_method(\n",
    "    sparse_cg_solver, L_plus_P_csc_sparse, b_dense)\n",
    "\n",
    "print(sparse_cg_solution)\n",
    "print(\n",
    "    f\"tempo do método de gradiente conjugados em uma matriz esparsa: {sparse_cg_solution_time}\")"
   ]
  },
  {
   "cell_type": "code",
   "execution_count": 108,
   "metadata": {},
   "outputs": [
    {
     "name": "stdout",
     "output_type": "stream",
     "text": [
      "[6.02573581e-08 1.94350521e-07 4.19514697e-07 ... 3.65342996e-07\n",
      " 5.68214434e-07 5.87184436e-07]\n",
      "tempo do método de Jacobi em uma matriz densa: 97.46246576309204\n"
     ]
    }
   ],
   "source": [
    "dense_jacobi_solution, dense_jacobi_solution_time = execute_method(\n",
    "    dense_jacobi_solver, L_plus_P_dense, b_dense, 1e-12, 1e-12)\n",
    "\n",
    "print(dense_jacobi_solution)\n",
    "print(\n",
    "    f\"tempo do método de Jacobi em uma matriz densa: {dense_jacobi_solution_time}\")"
   ]
  },
  {
   "cell_type": "code",
   "execution_count": 110,
   "metadata": {},
   "outputs": [
    {
     "name": "stdout",
     "output_type": "stream",
     "text": [
      "[6.02573581e-08 1.94350521e-07 4.19514697e-07 ... 3.65342996e-07\n",
      " 5.68214434e-07 5.87184436e-07]\n",
      "tempo do método de Jacobi em uma matriz densa: 89.81677865982056\n"
     ]
    }
   ],
   "source": [
    "dense_gauss_seidel_solution, dense_gauss_seidel_solution_time = execute_method(dense_gauss_seidel_solver,\n",
    "    L_plus_P_dense, b_dense, 1e-12, 1e-12)\n",
    "\n",
    "print(dense_gauss_seidel_solution)\n",
    "print(\n",
    "    f\"tempo do método de Seidel em uma matriz densa: {dense_gauss_seidel_solution_time}\")"
   ]
  }
 ],
 "metadata": {
  "interpreter": {
   "hash": "916dbcbb3f70747c44a77c7bcd40155683ae19c65e1c03b4aa3499c5328201f1"
  },
  "kernelspec": {
   "display_name": "Python 3 (ipykernel)",
   "language": "python",
   "name": "python3"
  },
  "language_info": {
   "codemirror_mode": {
    "name": "ipython",
    "version": 3
   },
   "file_extension": ".py",
   "mimetype": "text/x-python",
   "name": "python",
   "nbconvert_exporter": "python",
   "pygments_lexer": "ipython3",
   "version": "3.8.10"
  }
 },
 "nbformat": 4,
 "nbformat_minor": 4
}
