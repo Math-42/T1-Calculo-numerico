{
 "cells": [
  {
   "cell_type": "markdown",
   "metadata": {
    "tags": []
   },
   "source": [
    "## <font color='blue'>SME0104 - Cálculo Numérico</font>\n",
    "\n",
    "### Primeiro Trabalho em Grupo \n",
    "#### Comparação de Métodos na Solução do Laplaciano em Grafos para propagação de informação\n",
    "\n",
    "**Luis Gustavo Nonato**\n",
    "\n",
    "------"
   ]
  },
  {
   "cell_type": "markdown",
   "metadata": {},
   "source": [
    "Considere os arquivos `manh.el` e `manh.xy` que fornecem as arestas e as coordenadas dos vértices do grafo de ruas da ilha de Manhattan, NY (arquivos disponíveis para download no Google Drive).\n",
    "\n",
    "O grafo de ruas possui diversas componentes conexas, considerando somente a maior componente conexa, você deve realizar as seguintes tarefas:\n",
    "1. Selecione alguns vértices do grafo $v_{i_1},v_{i_2},\\ldots,v_{i_k},\\, k<<n$ ($n$ é o número de vértices na maior componente do grafo e $k$ é um número bem menor que $n$, $k=10$ por exemplo) e atribua valores distindos $c_{i_1},c_{i_2},\\ldots,c_{i_k}$ a cada um dos vértices selecionados (por exemplo valores no intervalo (0,10]);\n",
    "\n",
    "---\n",
    "\n",
    "\n",
    "2. Construa a matriz Laplaciana $L$ do grafo de ruas;\n",
    "3. Construa a matriz de penalidades $P$, sendo $P$ é uma matriz diagonal onde a entrada $P_{jj}=\\alpha$ se $j$ corresponde ao índice de algum dos vértices escolhidos no item 1 acima ($\\alpha=1.0e7$ por exemplo), sendo $P_{ii}=0$ caso contrário.\n",
    "4. Construa um vetor $b$ da seguinte forma:\n",
    "$$\n",
    "b_{j} = \\left\\{\\begin{matrix} c_{i_s} & \\:{ se } \\: j = i_s \\\\ 0 & \\:{ caso \\: contrário}\\end{matrix}\\right.\n",
    "$$\n",
    "5. Compare o tempo de solução do sistema\n",
    "$$\n",
    "(L+P)x = b\n",
    "$$\n",
    "para os métodos:\n",
    "    - Decomposição LU\n",
    "    - Cholesky\n",
    "    - Jacobi e Gaus-Seidel\n",
    "    - Gradientes Conjugados\n",
    "    \n",
    "6. Refaça as tarefas com representação por matriz esparsa e matrizes cheias, comparando os resultados."
   ]
  },
  {
   "cell_type": "markdown",
   "metadata": {},
   "source": [
    "Alunos: \n",
    "- Kauê Hunnicutt Bazilli - 11212226\n",
    "- Matheus Vieira Gonçalves - 11200397\n",
    "- Pedro Henrique dias Junqueira de Souza - 11294312"
   ]
  },
  {
   "cell_type": "code",
   "execution_count": 2,
   "metadata": {},
   "outputs": [],
   "source": [
    "import sys\n",
    "import time\n",
    "\n",
    "# Bagulho chato\n",
    "#%pip install --prefix {sys.prefix} numpy\n",
    "#%pip install --prefix {sys.prefix} scipy\n",
    "#%pip install --prefix {sys.prefix} networkx\n",
    "#%pip install --prefix {sys.prefix} matplotlib\n",
    "\n",
    "import numpy as np\n",
    "import scipy as sci\n",
    "from scipy.sparse import linalg\n",
    "import networkx as nx\n",
    "import matplotlib.pyplot as plt\n",
    "from matplotlib import cm"
   ]
  },
  {
   "cell_type": "code",
   "execution_count": 2,
   "metadata": {},
   "outputs": [],
   "source": [
    "# Construção do grafo em memória com base nos arquivos\n",
    "G = nx.Graph()\n",
    "\n",
    "#Nós\n",
    "with open(\"./manh.xy\",\"r\") as file:\n",
    "    lines = file.readlines()\n",
    "    for i, line in enumerate(lines):\n",
    "        [x, y] = map(float, line.split(\"\\t\")) #Lê como floats\n",
    "        G.add_node(i, data=(x, y))\n",
    "\n",
    "#Arestas\n",
    "with open(\"./manh.el\",\"r\") as file:\n",
    "    lines = file.readlines()\n",
    "    for line in lines:\n",
    "        [x, y] = map(int, line.split(\"\\t\")) #Lê como ints\n",
    "        G.add_edge(x,y)\n",
    "        \n",
    "LCC_generator = max(nx.connected_components(G), key=len)\n",
    "G = G.subgraph(LCC_generator).copy()\n",
    "\n",
    "# Desse ponto em diante, G é a maior componente conexa"
   ]
  },
  {
   "cell_type": "code",
   "execution_count": 3,
   "metadata": {},
   "outputs": [],
   "source": [
    "# 1) Selecione alguns vértices do grafo e atribua valores distintos a cada um dos vértices selecionados\n",
    "\n",
    "# Uma lista dos índices e outra lista com os seus respectivos valores\n",
    "c_indexes = np.random.randint(0, len(G), 10)\n",
    "c_values = np.random.uniform(0, 10, len(c_indexes))"
   ]
  },
  {
   "cell_type": "code",
   "execution_count": 4,
   "metadata": {},
   "outputs": [
    {
     "name": "stderr",
     "output_type": "stream",
     "text": [
      "<class 'networkx.utils.decorators.argmap'> compilation 8:4: FutureWarning: laplacian_matrix will return a scipy.sparse array instead of a matrix in Networkx 3.0.\n"
     ]
    },
    {
     "data": {
      "text/plain": [
       "(8708, 8708)"
      ]
     },
     "execution_count": 4,
     "metadata": {},
     "output_type": "execute_result"
    }
   ],
   "source": [
    "# 2) Construa a matriz Laplaciana L do grafo de ruas\n",
    "\n",
    "# Obtendo a matriz laplaciana\n",
    "L = np.array(nx.laplacian_matrix(G).todense())\n",
    "L.shape"
   ]
  },
  {
   "cell_type": "code",
   "execution_count": 5,
   "metadata": {},
   "outputs": [],
   "source": [
    "# 3) Construa a matriz de penalidades P\n",
    "\n",
    "P_diag =  [1e7 if i in c_indexes else 0 for i in range(len(G))]\n",
    "P = np.diag(P_diag)"
   ]
  },
  {
   "cell_type": "code",
   "execution_count": 6,
   "metadata": {},
   "outputs": [],
   "source": [
    "# 4) Construa o vetor b \n",
    "# Px = b\n",
    "# b é um vetor com ci nos índices i escolhidos na 1) e 0 em todo o resto.\n",
    "b = np.zeros(len(G))\n",
    "for i,ci in enumerate(c_indexes):\n",
    "    b[ci] = c_values[i]"
   ]
  },
  {
   "cell_type": "code",
   "execution_count": 7,
   "metadata": {},
   "outputs": [
    {
     "name": "stdout",
     "output_type": "stream",
     "text": [
      "(8708, 8708)\n",
      "(8708, 8708)\n",
      "(8708,)\n"
     ]
    }
   ],
   "source": [
    "# TODO: 5) Compare o tempo de solução do sistema (L + P)x = Px = b para os métodos:\n",
    "#   - Decomposição LU\n",
    "#   - Cholesky\n",
    "#   - Jacobi e Gaus-Seidel\n",
    "#   - Gradientes Conjugados\n",
    "# NOTE: Pode usar métodos embutidos do numpy e etc...\n",
    "#\n",
    "# Lx = 0\n",
    "# Px = b\n",
    "#\n",
    "# Nem P nem L são invertíveis, mas (L + P) é, então resolvemos a soma dos sistemas:\n",
    "#\n",
    "# (L + P)x = Px = b\n",
    "\n",
    "L_plus_P_dense = np.add(L, P)\n",
    "L_plus_P_csc_sparse =sci.sparse.csc_matrix(L_plus_P_dense)\n",
    "\n",
    "b_dense = b\n",
    "\n",
    "print(L_plus_P_csc_sparse.shape)\n",
    "print(L_plus_P_dense.shape)\n",
    "print(b_dense.shape)"
   ]
  },
  {
   "cell_type": "code",
   "execution_count": 8,
   "metadata": {},
   "outputs": [],
   "source": [
    "# Decomposição LU\n",
    "def dense_lu_solver(A,b):\n",
    "    lu, piv = sci.linalg.lu_factor(A)\n",
    "    x = sci.linalg.lu_solve((lu,piv),b)\n",
    "    return x\n",
    "\n",
    "def sparse_lu_solver(A,b):\n",
    "    lu = linalg.splu(A)\n",
    "    x = lu.solve(b)\n",
    "    return x\n",
    "\n",
    "# Decomposição de cholesky\n",
    "def dense_cholesky_solver(A,b):\n",
    "    c, low = sci.linalg.cho_factor(A)\n",
    "    x = sci.linalg.cho_solve((c,low),b)\n",
    "    return x\n",
    "\n",
    "def sparse_cholesky_solver(A,b):\n",
    "    c, low = sci.linalg.cho_factor(A)\n",
    "    x = sci.linalg.cho_solve((c,low),b)\n",
    "    return False\n",
    "\n",
    "# Gradientes conjugados\n",
    "def dense_cg_solver(A, b):\n",
    "    return linalg.cg(A, b, tol=1e-12)\n",
    "\n",
    "def sparse_cg_solver(A, b):\n",
    "    return linalg.cg(A, b, tol=1e-12)\n",
    "\n",
    "# Gauss-jacobi\n",
    "def dense_jacobi_solver(A, b, err, err_relative):\n",
    "    count = 0\n",
    "    r, c = A.shape\n",
    "    x = np.zeros(r)\n",
    "\n",
    "    D = np.diag(A)\n",
    "    R = A - np.diagflat(D)\n",
    "    curr_err = err + 1\n",
    "    curr_err_relative = err_relative + 1\n",
    "\n",
    "    while curr_err > err or curr_err_relative > err_relative:\n",
    "        last_x = x.copy()\n",
    "        x = (b - np.dot(R, x)) / D\n",
    "\n",
    "        max_distance = -1\n",
    "        max_module = -1\n",
    "\n",
    "        for i in range(c):\n",
    "            curr_distance = abs(last_x[i] - x[i])\n",
    "            max_distance = curr_distance if curr_distance > max_distance else max_distance\n",
    "            max_module = abs(x[i]) if abs(x[i]) > max_module else max_module\n",
    "\n",
    "        curr_err = max_distance\n",
    "        curr_err_relative = max_distance/max_module\n",
    "\n",
    "    return x\n",
    "\n",
    "# Gauss-Seidel\n",
    "def dense_gauss_seidel_solver(A, b, err, err_relative):\n",
    "    r, c = A.shape\n",
    "    x = np.zeros(r)\n",
    "    count = 0\n",
    "    curr_err = err + 1\n",
    "    curr_err_relative = err_relative + 1\n",
    "\n",
    "    while curr_err > err or curr_err_relative > err_relative:\n",
    "\n",
    "        last_x = x.copy()\n",
    "\n",
    "        for i in range(r):\n",
    "            x[i] = (b[i] - np.dot(A[i, :i], x[:i]) -\n",
    "                    np.dot(A[i, (i+1):], last_x[(i+1):])) / A[i, i]\n",
    "\n",
    "        max_distance = -1\n",
    "        max_module = -1\n",
    "\n",
    "        for i in range(c):\n",
    "            curr_distance = abs(last_x[i] - x[i])\n",
    "            max_distance = curr_distance if curr_distance > max_distance else max_distance\n",
    "            max_module = abs(x[i]) if abs(x[i]) > max_module else max_module\n",
    "\n",
    "        curr_err = max_distance\n",
    "        curr_err_relative = max_distance/max_module\n",
    "\n",
    "    return x\n",
    "\n",
    "def execute_method(method, *args):\n",
    "    start = time.time()\n",
    "    answer = method(*args)\n",
    "    total_time = time.time()-start\n",
    "    return answer, total_time\n",
    "\n",
    "times = []\n",
    "times_labels = []"
   ]
  },
  {
   "cell_type": "code",
   "execution_count": 9,
   "metadata": {},
   "outputs": [
    {
     "name": "stdout",
     "output_type": "stream",
     "text": [
      "[5.48868155e-07 5.49681067e-07 4.06087154e-07 ... 5.29188032e-07\n",
      " 4.19017622e-07 6.55065230e-07]\n",
      "tempo do método padrão np.linalg.solve: 131.8883810043335\n"
     ]
    }
   ],
   "source": [
    "std_dense_solution, std_dense_solution_time = execute_method(\n",
    "    np.linalg.solve, L_plus_P_dense, b_dense)\n",
    "\n",
    "print(std_dense_solution)\n",
    "print(f\"tempo do método padrão np.linalg.solve: {std_dense_solution_time}\")\n",
    "times.append(std_dense_solution)\n",
    "times_labels.append(\"np.linalg.solve)"
   ]
  },
  {
   "cell_type": "code",
   "execution_count": 10,
   "metadata": {},
   "outputs": [
    {
     "name": "stdout",
     "output_type": "stream",
     "text": [
      "[5.48868155e-07 5.49681067e-07 4.06087154e-07 ... 5.29188032e-07\n",
      " 4.19017622e-07 6.55065230e-07]\n",
      "tempo do método padrão scipy.sparse.linalg.solve: 0.01929020881652832\n"
     ]
    }
   ],
   "source": [
    "std_sparse_solution, std_sparse_solution_time = execute_method(\n",
    "    linalg.spsolve, L_plus_P_csc_sparse, b_dense)\n",
    "\n",
    "print(std_sparse_solution)\n",
    "print(\n",
    "    f\"tempo do método padrão scipy.sparse.linalg.solve: {std_sparse_solution_time}\")\n",
    "times.append(std_sparse_solution)\n",
    "times_labels.append(\"scipy.sparse.linalg.solve)"
   ]
  },
  {
   "cell_type": "code",
   "execution_count": null,
   "metadata": {},
   "outputs": [],
   "source": [
    "dense_lu_solution, dense_lu_solution_time = execute_method(\n",
    "    dense_lu_solver, L_plus_P_dense, b_dense)\n",
    "\n",
    "print(dense_lu_solution)\n",
    "print(\n",
    "    f\"tempo do método de decomposição LU em uma matriz densa: {dense_lu_solution_time}\")\n",
    "times.append(dense_lu_solution)\n",
    "times_labels.append(\"LU denso\")"
   ]
  },
  {
   "cell_type": "code",
   "execution_count": null,
   "metadata": {},
   "outputs": [],
   "source": [
    "sparse_lu_solution, sparse_lu_solution_time = execute_method(\n",
    "    sparse_lu_solver, L_plus_P_csc_sparse, b_dense)\n",
    "\n",
    "print(sparse_lu_solution)\n",
    "print(\n",
    "    f\"tempo do método de decomposição LU em uma matriz esparsa: {sparse_lu_solution_time}\")\n",
    "times.append(sparse_lu_solution)\n",
    "times_labels.append(\"LU esparso\")"
   ]
  },
  {
   "cell_type": "code",
   "execution_count": null,
   "metadata": {},
   "outputs": [],
   "source": [
    "dense_cholesky_solution, dense_cholesky_solution_time = execute_method(\n",
    "    dense_cholesky_solver, L_plus_P_dense, b_dense)\n",
    "\n",
    "print(dense_cholesky_solution)\n",
    "print(\n",
    "    f\"tempo do método de decomposição cholesky em uma matriz densa: {dense_cholesky_solution_time}\")\n",
    "times.append(dense_cholesky_solution)\n",
    "times_labels.append(\"Cholesky denso\")"
   ]
  },
  {
   "cell_type": "code",
   "execution_count": null,
   "metadata": {},
   "outputs": [],
   "source": [
    "dense_cg_solution, dense_cg_solution_time = execute_method(\n",
    "    dense_cg_solver, L_plus_P_dense, b_dense)\n",
    "\n",
    "print(dense_cg_solution)\n",
    "print(\n",
    "    f\"tempo do método de gradiente conjugados em uma matriz densa: {dense_cg_solution_time}\")\n",
    "times.append(dense_cg_solution)\n",
    "times_labels.append(\"Gradiente Conjugado denso\")"
   ]
  },
  {
   "cell_type": "code",
   "execution_count": null,
   "metadata": {},
   "outputs": [],
   "source": [
    "sparse_cg_solution, sparse_cg_solution_time = execute_method(\n",
    "    sparse_cg_solver, L_plus_P_csc_sparse, b_dense)\n",
    "\n",
    "print(sparse_cg_solution)\n",
    "print(\n",
    "    f\"tempo do método de gradiente conjugados em uma matriz esparsa: {sparse_cg_solution_time}\")\n",
    "times.append(sparse_cg_solution)\n",
    "times_labels.append(\"Gradiente Conjugado esparso\")"
   ]
  },
  {
   "cell_type": "code",
   "execution_count": null,
   "metadata": {},
   "outputs": [],
   "source": [
    "dense_jacobi_solution, dense_jacobi_solution_time = execute_method(\n",
    "    dense_jacobi_solver, L_plus_P_dense, b_dense, 1e-12, 1e-12)\n",
    "\n",
    "print(dense_jacobi_solution)\n",
    "print(\n",
    "    f\"tempo do método de Jacobi em uma matriz densa: {dense_jacobi_solution_time}\")\n",
    "times.append(dense_jacobi_solution)\n",
    "times_labels.append(\"Jacobi denso\")"
   ]
  },
  {
   "cell_type": "code",
   "execution_count": null,
   "metadata": {},
   "outputs": [],
   "source": [
    "dense_gauss_seidel_solution, dense_gauss_seidel_solution_time = execute_method(dense_gauss_seidel_solver,\n",
    "    L_plus_P_dense, b_dense, 1e-12, 1e-12)\n",
    "\n",
    "print(dense_gauss_seidel_solution)\n",
    "print(\n",
    "    f\"tempo do método de Seidel em uma matriz densa: {dense_gauss_seidel_solution_time}\")\n",
    "times.append(dense_gauss_seidel_solution)\n",
    "times_labels.append(\"Gauss-Seidel denso\")"
   ]
  },
  {
   "cell_type": "code",
   "execution_count": null,
   "metadata": {},
   "outputs": [],
   "source": [
    "# Visualizações\n",
    "cmap = cm.get_cmap(\"viridis\", 8)\n",
    "\n",
    "def visualize_2d(solution):\n",
    "    x = [data[\"data\"][0] for (_,data) in G.nodes.items()]\n",
    "    y = [data[\"data\"][1] for (_,data) in G.nodes.items()]\n",
    "    \n",
    "    # Normaliza a solução entre 0 e 1 e acha as cores\n",
    "    norm_solution = [(a - min(solution))/max(solution - min(solution)) for a in solution]\n",
    "    colors = [cmap(a) for a in norm_solution]\n",
    "    plt.scatter(x, y, color=colors, s=5)\n",
    "    \n",
    "    # Pontos fixos\n",
    "    cx = [x[i] for i in c_indexes]\n",
    "    cy = [y[i] for i in c_indexes]\n",
    "    plt.scatter(cx, cy, color=\"red\")\n",
    "    \n",
    "def visualize_height(solution):\n",
    "    x = [data[\"data\"][0] for (_,data) in G.nodes.items()]\n",
    "    y = [data[\"data\"][1] for (_,data) in G.nodes.items()]\n",
    "    \n",
    "    fig = plt.figure(figsize=[10,10])\n",
    "    ax = plt.axes(projection=\"3d\")\n",
    "    \n",
    "    # Superfície\n",
    "    ax.plot_trisurf(x, y, solution, cmap=cmap)\n",
    "\n",
    "    # Pontos fixos\n",
    "    cx = [x[i] for i in c_indexes]\n",
    "    cy = [y[i] for i in c_indexes]\n",
    "    cz = [solution[i] for i in c_indexes]\n",
    "    ax.scatter(cx, cy, cz, color=\"red\")"
   ]
  },
  {
   "cell_type": "code",
   "execution_count": null,
   "metadata": {},
   "outputs": [],
   "source": [
    "visualize_2d(dense_lu_solution)"
   ]
  },
  {
   "cell_type": "code",
   "execution_count": null,
   "metadata": {},
   "outputs": [],
   "source": [
    "visualize_height(dense_lu_solution)"
   ]
  },
  {
   "cell_type": "code",
   "execution_count": 5,
   "metadata": {},
   "outputs": [
    {
     "data": {
      "text/plain": [
       "<BarContainer object of 5 artists>"
      ]
     },
     "execution_count": 5,
     "metadata": {},
     "output_type": "execute_result"
    },
    {
     "data": {
      "image/png": "[encoded data removed]",
      "text/plain": [
       "<Figure size 432x288 with 1 Axes>"
      ]
     },
     "metadata": {
      "needs_background": "light"
     },
     "output_type": "display_data"
    }
   ],
   "source": [
    "# Visualização de tempo\n",
    "plt.bar(range(len(times)), times, tick_label=times_labels)"
   ]
  }
 ],
 "metadata": {
  "interpreter": {
   "hash": "916dbcbb3f70747c44a77c7bcd40155683ae19c65e1c03b4aa3499c5328201f1"
  },
  "kernelspec": {
   "display_name": "Python 3 (ipykernel)",
   "language": "python",
   "name": "python3"
  },
  "language_info": {
   "codemirror_mode": {
    "name": "ipython",
    "version": 3
   },
   "file_extension": ".py",
   "mimetype": "text/x-python",
   "name": "python",
   "nbconvert_exporter": "python",
   "pygments_lexer": "ipython3",
   "version": "3.10.4"
  }
 },
 "nbformat": 4,
 "nbformat_minor": 4
}
